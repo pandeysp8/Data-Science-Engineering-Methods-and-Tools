{
 "cells": [
  {
   "cell_type": "code",
   "execution_count": 6,
   "metadata": {},
   "outputs": [],
   "source": [
    "# Taking all the pictures into arrays and setting border for each one of it\n",
    "import numpy as np\n",
    "from PIL import Image\n",
    "from PIL import Image as pili, ImageDraw as pild, ImageFont as pilf \n",
    "from PIL import Image, ImageFont, ImageDraw\n",
    "from PIL import Image as pili, ImageOps as piliops\n",
    "\n",
    "list_im = ['Once/0.JPG', 'Once/1.JPG', 'Once/2.JPG', 'Once/3.JPG', 'Once/4.JPG','Once/5.JPG','Once/6.JPG','Once/7.JPG','Once/8.JPG','Once/9.JPG','Once/10.JPG','Once/11.JPG','Once/12.JPG','Once/13.JPG','Once/14.JPG','Once/15.JPG','Once/16.JPG','Once/17.JPG','Once/18.JPG','Once/19.JPG','Once/20.JPG','Once/21.JPG','Once/22.JPG','Once/23.JPG',\n",
    "            'Once/24.JPG','Once/25.JPG','Once/26.JPG','Once/27.JPG','Once/28.JPG','Once/29.JPG','Once/30.JPG','Once/31.JPG','Once/32.JPG','Once/33.JPG','Once/34.JPG','Once/35.JPG','Once/36.JPG','Once/37.JPG','Once/38.JPG','Once/39.JPG','Once/40.JPG','Once/41.JPG','Once/42.JPG','Once/43.JPG','Once/44.JPG','Once/45.JPG','Once/46.JPG','Once/47.JPG','Once/48.JPG',\n",
    "          'Once/49.JPG','Once/50.JPG','Once/51.JPG','Once/52.JPG','Once/53.JPG','Once/54.JPG','Once/55.JPG','Once/56.JPG','Once/57.JPG','Once/58.JPG','Once/59.JPG','Once/60.JPG','Once/61.JPG','Once/62.JPG','Once/63.JPG','Once/64.JPG','Once/65.JPG','Once/66.JPG','Once/67.JPG','Once/68.JPG','Once/69.JPG','Once/70.JPG','Once/71.JPG','Once/72.JPG','Once/73.JPG','Once/74.JPG',\n",
    "          'Once/75.JPG','Once/76.JPG','Once/77.JPG','Once/78.JPG','Once/79.JPG','Once/80.JPG','Once/81.JPG','Once/82.JPG','Once/83.JPG','Once/84.JPG','Once/85.JPG','Once/86.JPG','Once/87.JPG','Once/88.JPG','Once/89.JPG','Once/90.JPG','Once/91.JPG','Once/92.JPG','Once/93.JPG','Once/94.JPG','Once/95.JPG','Once/96.JPG','Once/97.JPG','Once/98.JPG','Once/99.JPG',\n",
    "          ]\n",
    "#imgs    = [ PIL.Image.open(i) for i in list_im ]\n",
    "\n",
    "\n",
    "# pick the image which is the smallest, and resize the others to match it (can be arbitrary image shape here)\n",
    "#min_shape = sorted( [(np.sum(i.size), i.size ) for i in imgs])[0][1]\n",
    "\n",
    "for i in range(len(list_im)):\n",
    "    #Image(i, width=400)\n",
    "    piliops.expand(pili.open(list_im[i]), border=(10,10),fill='black').save(list_im[i],width=400)\n",
    "\n"
   ]
  },
  {
   "cell_type": "code",
   "execution_count": 39,
   "metadata": {},
   "outputs": [
    {
     "data": {
      "text/plain": [
       "'C:\\\\Users\\\\Swati'"
      ]
     },
     "execution_count": 39,
     "metadata": {},
     "output_type": "execute_result"
    }
   ],
   "source": [
    "pwd"
   ]
  },
  {
   "cell_type": "code",
   "execution_count": 7,
   "metadata": {},
   "outputs": [
    {
     "data": {
      "text/html": [
       "<div>\n",
       "<style scoped>\n",
       "    .dataframe tbody tr th:only-of-type {\n",
       "        vertical-align: middle;\n",
       "    }\n",
       "\n",
       "    .dataframe tbody tr th {\n",
       "        vertical-align: top;\n",
       "    }\n",
       "\n",
       "    .dataframe thead th {\n",
       "        text-align: right;\n",
       "    }\n",
       "</style>\n",
       "<table border=\"1\" class=\"dataframe\">\n",
       "  <thead>\n",
       "    <tr style=\"text-align: right;\">\n",
       "      <th></th>\n",
       "      <th>dialogs</th>\n",
       "    </tr>\n",
       "  </thead>\n",
       "  <tbody>\n",
       "    <tr>\n",
       "      <td>0</td>\n",
       "      <td>o</td>\n",
       "    </tr>\n",
       "    <tr>\n",
       "      <td>1</td>\n",
       "      <td>Lovely Day</td>\n",
       "    </tr>\n",
       "    <tr>\n",
       "      <td>2</td>\n",
       "      <td>Ballu I may fall</td>\n",
       "    </tr>\n",
       "    <tr>\n",
       "      <td>3</td>\n",
       "      <td>I am hungry, I can eat it</td>\n",
       "    </tr>\n",
       "    <tr>\n",
       "      <td>4</td>\n",
       "      <td>Then dancing</td>\n",
       "    </tr>\n",
       "    <tr>\n",
       "      <td>5</td>\n",
       "      <td>Ohh Shit!!</td>\n",
       "    </tr>\n",
       "    <tr>\n",
       "      <td>6</td>\n",
       "      <td>I think I heard something</td>\n",
       "    </tr>\n",
       "    <tr>\n",
       "      <td>7</td>\n",
       "      <td>Ohh No</td>\n",
       "    </tr>\n",
       "    <tr>\n",
       "      <td>8</td>\n",
       "      <td>Why you are in the water?</td>\n",
       "    </tr>\n",
       "    <tr>\n",
       "      <td>9</td>\n",
       "      <td>Come on I will have fun ride on you</td>\n",
       "    </tr>\n",
       "  </tbody>\n",
       "</table>\n",
       "</div>"
      ],
      "text/plain": [
       "                               dialogs\n",
       "0                                    o\n",
       "1                           Lovely Day\n",
       "2                     Ballu I may fall\n",
       "3            I am hungry, I can eat it\n",
       "4                         Then dancing\n",
       "5                           Ohh Shit!!\n",
       "6            I think I heard something\n",
       "7                               Ohh No\n",
       "8            Why you are in the water?\n",
       "9  Come on I will have fun ride on you"
      ]
     },
     "execution_count": 7,
     "metadata": {},
     "output_type": "execute_result"
    }
   ],
   "source": [
    "#importing csv file for dialogs\n",
    "import pandas as pd\n",
    "data = pd.read_csv('dialog_for_WW.csv')\n",
    "data.head(10)\n",
    "#data['dialogs']"
   ]
  },
  {
   "cell_type": "code",
   "execution_count": 9,
   "metadata": {
    "scrolled": true
   },
   "outputs": [
    {
     "name": "stdout",
     "output_type": "stream",
     "text": [
      "100\n"
     ]
    }
   ],
   "source": [
    "#adding caption on each image\n",
    "import pandas as pd\n",
    "import numpy as np\n",
    "import os, os.path\n",
    "from PIL import Image as pili, ImageDraw as pild, ImageFont as pilf \n",
    "from PIL import Image, ImageFont, ImageDraw\n",
    "from PIL import Image as pili, ImageOps as piliops\n",
    "import PIL\n",
    "k=0\n",
    "i=0\n",
    "image_txt=[]\n",
    "strip=[]\n",
    "number_files = len(list_im)\n",
    "print(number_files)\n",
    "c=len(data['dialogs'])\n",
    "TINT_COLOR = (0, 0, 0)  # Black\n",
    "TRANSPARENCY = .25  # Degree of transparency, 0-100%\n",
    "OPACITY = int(255 * TRANSPARENCY)\n",
    "#n= number_files+1\n",
    "#for k in range(number_files):\n",
    "for i in range(number_files):\n",
    "       \n",
    "    #data['dialogs'][i]\n",
    "    img = pili.open(list_im[i]).convert('RGBA')\n",
    "    overlay = pili.new('RGBA', img.size, TINT_COLOR+(0,))\n",
    "    draw = pild.Draw(overlay)\n",
    "    font = pilf.truetype(\"arial.ttf\", 30)\n",
    "    x, y = (img.width - 550, img.height-200)\n",
    "    text = data.values[k][0]\n",
    "    k=k+1\n",
    "        \n",
    "    w, h = font.getsize(text)\n",
    "    num_lines = len(text.split('\\n'))\n",
    "    #print(num_lines, w, h)\n",
    "    x, y = 20, img.height - (num_lines-0.1*num_lines)*h\n",
    "    #draw.rectangle((x, y, x + w, y + h), fill='black')\n",
    "    #draw.rectangle((x, y, x + w, y + 4*h), fill=TINT_COLOR+(OPACITY,))\n",
    "    draw.rectangle((x, y, x + img.width - 200, y + (num_lines-0.1*num_lines)*h), fill=TINT_COLOR+(OPACITY,))\n",
    "    draw.text((x, y), text, fill=(209, 239, 8), font=font)\n",
    "\n",
    "    # Alpha composite these two images together to obtain the desired result.\n",
    "    img = pili.alpha_composite(img, overlay)\n",
    "    img = img.convert(\"RGB\") # Remove alpha for saving in jpg format.\n",
    "    Strip=image_txt.append(img.save(\"Try\"+ \"/\"+str(i) +\".jpeg\"))\n",
    "    \n"
   ]
  },
  {
   "cell_type": "code",
   "execution_count": 12,
   "metadata": {},
   "outputs": [
    {
     "name": "stderr",
     "output_type": "stream",
     "text": [
      "C:\\Users\\Swati\\Anaconda3\\lib\\site-packages\\ipykernel_launcher.py:17: FutureWarning: arrays to stack must be passed as a \"sequence\" type such as list or tuple. Support for non-sequence iterables such as generators is deprecated as of NumPy 1.16 and will raise an error in the future.\n"
     ]
    }
   ],
   "source": [
    "#Making a horizontal strip from the captioned pictures\n",
    "import numpy as np\n",
    "import PIL\n",
    "\n",
    "list_im = ['Try/0.JPEG', 'Try/1.JPEG', 'Try/2.JPEG', 'Try/3.JPEG', 'Try/4.JPEG','Try/5.JPEG','Try/6.JPEG','Try/7.JPEG','Try/8.JPEG','Try/9.JPEG','Try/10.JPEG','Try/11.JPEG','Try/12.JPEG','Try/13.JPEG','Try/14.JPEG','Try/15.JPEG','Try/16.JPEG','Try/17.JPEG','Try/18.JPEG','Try/19.JPEG','Try/20.JPEG','Try/21.JPEG','Try/22.JPEG','Try/23.JPEG',\n",
    "            'Try/24.JPEG','Try/25.JPEG','Try/26.JPEG','Try/27.JPEG','Try/28.JPEG','Try/29.JPEG','Try/30.JPEG','Try/31.JPEG','Try/32.JPEG','Try/33.JPEG','Try/34.JPEG','Try/35.JPEG','Try/36.JPEG','Try/37.JPEG','Try/38.JPEG','Try/39.JPEG','Try/40.JPEG','Try/41.JPEG','Try/42.JPEG','Try/43.JPEG','Try/44.JPEG','Try/45.JPEG','Try/46.JPEG','Try/47.JPEG','Try/48.JPEG',\n",
    "          'Try/49.JPEG','Try/50.JPEG','Try/51.JPEG','Try/52.JPEG','Try/53.JPEG','Try/54.JPEG','Try/55.JPEG','Try/56.JPEG','Try/57.JPEG','Try/58.JPEG','Try/59.JPEG','Try/60.JPEG','Try/61.JPEG','Try/62.JPEG','Try/63.JPEG','Try/64.JPEG','Try/65.JPEG','Try/66.JPEG','Try/67.JPEG','Try/68.JPEG','Try/69.JPEG','Try/70.JPEG','Try/71.JPEG','Try/72.JPEG','Try/73.JPEG','Try/74.JPEG',\n",
    "          'Try/75.JPEG','Try/76.JPEG','Try/77.JPEG','Try/78.JPEG','Try/79.JPEG','Try/80.JPEG','Try/81.JPEG','Try/82.JPEG','Try/83.JPEG','Try/84.JPEG','Try/85.JPEG','Try/86.JPEG','Try/87.JPEG','Try/88.JPEG','Try/89.JPEG','Try/90.JPEG','Try/91.JPEG','Try/92.JPEG','Try/93.JPEG','Try/94.JPEG','Try/95.JPEG','Try/96.JPEG','Try/97.JPEG','Try/98.JPEG','Try/99.JPEG'\n",
    "          ]\n",
    "j=0\n",
    "i=0\n",
    "length= len(list_im)\n",
    "for j in range(length//5):\n",
    "    imgs    = [ PIL.Image.open(i) for i in list_im[i:i+5] ]\n",
    "    \n",
    "# pick the image which is the smallest, and resize the others to match it (can be arbitrary image shape here)\n",
    "    min_shape = sorted( [(np.sum(i.size), i.size ) for i in imgs])[0][1]\n",
    "    imgs_comb = np.hstack( (np.asarray( i.resize(min_shape) ) for i in imgs ) )\n",
    "\n",
    "# save that beautiful picture\n",
    "    imgs_comb = PIL.Image.fromarray( imgs_comb)\n",
    "    imgs_comb.save( 'Try/HS' +str(j)+ '.png' ) \n",
    "    i=i+5\n"
   ]
  },
  {
   "cell_type": "code",
   "execution_count": 16,
   "metadata": {},
   "outputs": [
    {
     "name": "stderr",
     "output_type": "stream",
     "text": [
      "C:\\Users\\Swati\\Anaconda3\\lib\\site-packages\\ipykernel_launcher.py:12: FutureWarning: arrays to stack must be passed as a \"sequence\" type such as list or tuple. Support for non-sequence iterables such as generators is deprecated as of NumPy 1.16 and will raise an error in the future.\n",
      "  if sys.path[0] == '':\n"
     ]
    }
   ],
   "source": [
    "#taking the horizontal strips into a list and vertically binding 5 in each page\n",
    "list_im=['Try/HS0.PNG','Try/HS1.PNG','Try/HS2.PNG','Try/HS3.PNG','Try/HS4.PNG','Try/HS5.PNG','Try/HS6.PNG','Try/HS7.PNG','Try/HS8.PNG','Try/HS9.PNG','Try/HS10.PNG','Try/HS11.PNG','Try/HS12.PNG','Try/HS13.PNG','Try/HS14.PNG',\n",
    "        'Try/HS15.PNG','Try/HS16.PNG','Try/HS17.PNG','Try/HS18.PNG','Try/HS19.PNG']\n",
    "\n",
    "j=0\n",
    "i=0\n",
    "length= len(list_im)\n",
    "for j in range(length//4):\n",
    "    imgs    = [ PIL.Image.open(i) for i in list_im[i:i+5] ]\n",
    "    \n",
    "# pick the image which is the smallest, and resize the others to match it (can be arbitrary image shape here)\n",
    "    min_shape = sorted( [(np.sum(i.size), i.size ) for i in imgs])[0][1]\n",
    "    imgs_comb = np.vstack( (np.asarray( i.resize(min_shape) ) for i in imgs ) )\n",
    "\n",
    "# save that beautiful picture\n",
    "    imgs_comb = PIL.Image.fromarray( imgs_comb)\n",
    "    imgs_comb.save( 'Try/Page' +str(j)+ '.png' ) \n",
    "    i=i+4"
   ]
  },
  {
   "cell_type": "code",
   "execution_count": 20,
   "metadata": {},
   "outputs": [
    {
     "name": "stdout",
     "output_type": "stream",
     "text": [
      "done!\n"
     ]
    }
   ],
   "source": [
    "#Final step-- converting the 5 images into a pdf\n",
    "\n",
    "from PIL import Image, ImageDraw, ImageFont, ImageFilter\n",
    "from fpdf import FPDF\n",
    "\n",
    "#pdf = FPDF()\n",
    "cover = Image.open('jungle-book/_104680082_junglebook.jpg')\n",
    "width, height = cover.size\n",
    "pdf = FPDF(unit = \"pt\", format = [width, height])\n",
    "    \n",
    "# imagelist is the list with all image filenames\n",
    "imagelist = ['Try/Page0.png', \n",
    "             'Try/Page1.png', \n",
    "             'Try/Page2.png', \n",
    "             'Try/Page3.png',\n",
    "             'Try/Page4.png']\n",
    "\n",
    "for image in imagelist:\n",
    "    pdf.add_page()\n",
    "    pdf.image(image, 0, 0, width, height)\n",
    "pdf.output(\"Try/Final.pdf\", \"F\")\n",
    "print(\"done!\")"
   ]
  }
 ],
 "metadata": {
  "kernelspec": {
   "display_name": "Python 3",
   "language": "python",
   "name": "python3"
  },
  "language_info": {
   "codemirror_mode": {
    "name": "ipython",
    "version": 3
   },
   "file_extension": ".py",
   "mimetype": "text/x-python",
   "name": "python",
   "nbconvert_exporter": "python",
   "pygments_lexer": "ipython3",
   "version": "3.7.4"
  }
 },
 "nbformat": 4,
 "nbformat_minor": 2
}
