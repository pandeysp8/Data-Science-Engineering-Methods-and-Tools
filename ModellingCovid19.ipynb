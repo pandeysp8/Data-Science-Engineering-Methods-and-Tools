{
 "cells": [
  {
   "cell_type": "markdown",
   "metadata": {},
   "source": [
    "\n",
    "\n",
    "\n",
    "Going to model the Coronavirus!\n",
    "\n",
    "<br />\n",
    "<center>\n",
    "<img src=\"https://www.paho.org/hq/images/stories/2020/coronavirus-6-1400x592.jpg\" width=600 />\n",
    "</center>"
   ]
  },
  {
   "cell_type": "markdown",
   "metadata": {},
   "source": [
    "# Data from China\n",
    "\n",
    "This [website](https://github.com/BlankerL/DXY-COVID-19-Data) is a result of good citizenship: People posting real data that can help other people learn from mistakes and fare better.\n",
    "\n",
    "Download this data, import `DXYArea.csv` as a pandas dataframe, and plot some interesting plots."
   ]
  },
  {
   "cell_type": "code",
   "execution_count": 1,
   "metadata": {},
   "outputs": [],
   "source": [
    "import numpy as np\n",
    "import pandas as pd\n",
    "import matplotlib.pyplot as plt"
   ]
  },
  {
   "cell_type": "code",
   "execution_count": 2,
   "metadata": {},
   "outputs": [],
   "source": [
    "covid19_china = pd.read_csv('DXYArea.xls')"
   ]
  },
  {
   "cell_type": "markdown",
   "metadata": {},
   "source": [
    "Now drop the columns 'province_suspectedCount', 'city_suspectedCount', 'province_zipCode', 'city_zipCode', and display the dataframe."
   ]
  },
  {
   "cell_type": "code",
   "execution_count": 3,
   "metadata": {},
   "outputs": [
    {
     "data": {
      "text/html": [
       "<div>\n",
       "<style scoped>\n",
       "    .dataframe tbody tr th:only-of-type {\n",
       "        vertical-align: middle;\n",
       "    }\n",
       "\n",
       "    .dataframe tbody tr th {\n",
       "        vertical-align: top;\n",
       "    }\n",
       "\n",
       "    .dataframe thead th {\n",
       "        text-align: right;\n",
       "    }\n",
       "</style>\n",
       "<table border=\"1\" class=\"dataframe\">\n",
       "  <thead>\n",
       "    <tr style=\"text-align: right;\">\n",
       "      <th></th>\n",
       "      <th>continentName</th>\n",
       "      <th>continentEnglishName</th>\n",
       "      <th>countryName</th>\n",
       "      <th>countryEnglishName</th>\n",
       "      <th>provinceName</th>\n",
       "      <th>provinceEnglishName</th>\n",
       "      <th>province_zipCode</th>\n",
       "      <th>province_confirmedCount</th>\n",
       "      <th>province_suspectedCount</th>\n",
       "      <th>province_curedCount</th>\n",
       "      <th>province_deadCount</th>\n",
       "      <th>updateTime</th>\n",
       "      <th>cityName</th>\n",
       "      <th>cityEnglishName</th>\n",
       "      <th>city_zipCode</th>\n",
       "      <th>city_confirmedCount</th>\n",
       "      <th>city_suspectedCount</th>\n",
       "      <th>city_curedCount</th>\n",
       "      <th>city_deadCount</th>\n",
       "    </tr>\n",
       "  </thead>\n",
       "  <tbody>\n",
       "    <tr>\n",
       "      <td>0</td>\n",
       "      <td>亚洲</td>\n",
       "      <td>Asia</td>\n",
       "      <td>约旦</td>\n",
       "      <td>Jordan</td>\n",
       "      <td>约旦</td>\n",
       "      <td>Jordan</td>\n",
       "      <td>955010</td>\n",
       "      <td>53</td>\n",
       "      <td>0.0</td>\n",
       "      <td>1</td>\n",
       "      <td>0</td>\n",
       "      <td>2020-03-19 00:31:40</td>\n",
       "      <td>NaN</td>\n",
       "      <td>NaN</td>\n",
       "      <td>NaN</td>\n",
       "      <td>NaN</td>\n",
       "      <td>NaN</td>\n",
       "      <td>NaN</td>\n",
       "      <td>NaN</td>\n",
       "    </tr>\n",
       "    <tr>\n",
       "      <td>1</td>\n",
       "      <td>亚洲</td>\n",
       "      <td>Asia</td>\n",
       "      <td>越南</td>\n",
       "      <td>Vietnam</td>\n",
       "      <td>越南</td>\n",
       "      <td>Vietnam</td>\n",
       "      <td>952011</td>\n",
       "      <td>75</td>\n",
       "      <td>0.0</td>\n",
       "      <td>16</td>\n",
       "      <td>0</td>\n",
       "      <td>2020-03-19 00:16:32</td>\n",
       "      <td>NaN</td>\n",
       "      <td>NaN</td>\n",
       "      <td>NaN</td>\n",
       "      <td>NaN</td>\n",
       "      <td>NaN</td>\n",
       "      <td>NaN</td>\n",
       "      <td>NaN</td>\n",
       "    </tr>\n",
       "    <tr>\n",
       "      <td>2</td>\n",
       "      <td>亚洲</td>\n",
       "      <td>Asia</td>\n",
       "      <td>巴基斯坦</td>\n",
       "      <td>Pakistan</td>\n",
       "      <td>巴基斯坦</td>\n",
       "      <td>Pakistan</td>\n",
       "      <td>953006</td>\n",
       "      <td>289</td>\n",
       "      <td>0.0</td>\n",
       "      <td>1</td>\n",
       "      <td>0</td>\n",
       "      <td>2020-03-19 00:12:14</td>\n",
       "      <td>NaN</td>\n",
       "      <td>NaN</td>\n",
       "      <td>NaN</td>\n",
       "      <td>NaN</td>\n",
       "      <td>NaN</td>\n",
       "      <td>NaN</td>\n",
       "      <td>NaN</td>\n",
       "    </tr>\n",
       "    <tr>\n",
       "      <td>3</td>\n",
       "      <td>北美洲</td>\n",
       "      <td>North America</td>\n",
       "      <td>古巴</td>\n",
       "      <td>Cuba</td>\n",
       "      <td>古巴</td>\n",
       "      <td>Cuba</td>\n",
       "      <td>974004</td>\n",
       "      <td>10</td>\n",
       "      <td>0.0</td>\n",
       "      <td>0</td>\n",
       "      <td>1</td>\n",
       "      <td>2020-03-19 00:09:02</td>\n",
       "      <td>NaN</td>\n",
       "      <td>NaN</td>\n",
       "      <td>NaN</td>\n",
       "      <td>NaN</td>\n",
       "      <td>NaN</td>\n",
       "      <td>NaN</td>\n",
       "      <td>NaN</td>\n",
       "    </tr>\n",
       "    <tr>\n",
       "      <td>4</td>\n",
       "      <td>亚洲</td>\n",
       "      <td>Asia</td>\n",
       "      <td>巴勒斯坦</td>\n",
       "      <td>Palestine</td>\n",
       "      <td>巴勒斯坦</td>\n",
       "      <td>Palestine</td>\n",
       "      <td>955014</td>\n",
       "      <td>44</td>\n",
       "      <td>0.0</td>\n",
       "      <td>0</td>\n",
       "      <td>0</td>\n",
       "      <td>2020-03-19 00:05:48</td>\n",
       "      <td>NaN</td>\n",
       "      <td>NaN</td>\n",
       "      <td>NaN</td>\n",
       "      <td>NaN</td>\n",
       "      <td>NaN</td>\n",
       "      <td>NaN</td>\n",
       "      <td>NaN</td>\n",
       "    </tr>\n",
       "    <tr>\n",
       "      <td>...</td>\n",
       "      <td>...</td>\n",
       "      <td>...</td>\n",
       "      <td>...</td>\n",
       "      <td>...</td>\n",
       "      <td>...</td>\n",
       "      <td>...</td>\n",
       "      <td>...</td>\n",
       "      <td>...</td>\n",
       "      <td>...</td>\n",
       "      <td>...</td>\n",
       "      <td>...</td>\n",
       "      <td>...</td>\n",
       "      <td>...</td>\n",
       "      <td>...</td>\n",
       "      <td>...</td>\n",
       "      <td>...</td>\n",
       "      <td>...</td>\n",
       "      <td>...</td>\n",
       "      <td>...</td>\n",
       "    </tr>\n",
       "    <tr>\n",
       "      <td>83822</td>\n",
       "      <td>亚洲</td>\n",
       "      <td>Asia</td>\n",
       "      <td>中国</td>\n",
       "      <td>China</td>\n",
       "      <td>辽宁省</td>\n",
       "      <td>Liaoning</td>\n",
       "      <td>210000</td>\n",
       "      <td>0</td>\n",
       "      <td>1.0</td>\n",
       "      <td>0</td>\n",
       "      <td>0</td>\n",
       "      <td>2020-01-22 03:28:10</td>\n",
       "      <td>NaN</td>\n",
       "      <td>NaN</td>\n",
       "      <td>NaN</td>\n",
       "      <td>NaN</td>\n",
       "      <td>NaN</td>\n",
       "      <td>NaN</td>\n",
       "      <td>NaN</td>\n",
       "    </tr>\n",
       "    <tr>\n",
       "      <td>83823</td>\n",
       "      <td>亚洲</td>\n",
       "      <td>Asia</td>\n",
       "      <td>中国</td>\n",
       "      <td>China</td>\n",
       "      <td>台湾</td>\n",
       "      <td>Taiwan</td>\n",
       "      <td>710000</td>\n",
       "      <td>1</td>\n",
       "      <td>0.0</td>\n",
       "      <td>0</td>\n",
       "      <td>0</td>\n",
       "      <td>2020-01-22 03:28:10</td>\n",
       "      <td>NaN</td>\n",
       "      <td>NaN</td>\n",
       "      <td>NaN</td>\n",
       "      <td>NaN</td>\n",
       "      <td>NaN</td>\n",
       "      <td>NaN</td>\n",
       "      <td>NaN</td>\n",
       "    </tr>\n",
       "    <tr>\n",
       "      <td>83824</td>\n",
       "      <td>亚洲</td>\n",
       "      <td>Asia</td>\n",
       "      <td>中国</td>\n",
       "      <td>Hongkong</td>\n",
       "      <td>香港</td>\n",
       "      <td>Hongkong</td>\n",
       "      <td>810000</td>\n",
       "      <td>0</td>\n",
       "      <td>117.0</td>\n",
       "      <td>0</td>\n",
       "      <td>0</td>\n",
       "      <td>2020-01-22 03:28:10</td>\n",
       "      <td>NaN</td>\n",
       "      <td>NaN</td>\n",
       "      <td>NaN</td>\n",
       "      <td>NaN</td>\n",
       "      <td>NaN</td>\n",
       "      <td>NaN</td>\n",
       "      <td>NaN</td>\n",
       "    </tr>\n",
       "    <tr>\n",
       "      <td>83825</td>\n",
       "      <td>亚洲</td>\n",
       "      <td>Asia</td>\n",
       "      <td>中国</td>\n",
       "      <td>China</td>\n",
       "      <td>黑龙江省</td>\n",
       "      <td>Heilongjiang</td>\n",
       "      <td>230000</td>\n",
       "      <td>0</td>\n",
       "      <td>1.0</td>\n",
       "      <td>0</td>\n",
       "      <td>0</td>\n",
       "      <td>2020-01-22 03:28:10</td>\n",
       "      <td>NaN</td>\n",
       "      <td>NaN</td>\n",
       "      <td>NaN</td>\n",
       "      <td>NaN</td>\n",
       "      <td>NaN</td>\n",
       "      <td>NaN</td>\n",
       "      <td>NaN</td>\n",
       "    </tr>\n",
       "    <tr>\n",
       "      <td>83826</td>\n",
       "      <td>亚洲</td>\n",
       "      <td>Asia</td>\n",
       "      <td>中国</td>\n",
       "      <td>China</td>\n",
       "      <td>湖南省</td>\n",
       "      <td>Hunan</td>\n",
       "      <td>430000</td>\n",
       "      <td>1</td>\n",
       "      <td>0.0</td>\n",
       "      <td>0</td>\n",
       "      <td>0</td>\n",
       "      <td>2020-01-22 03:28:10</td>\n",
       "      <td>NaN</td>\n",
       "      <td>NaN</td>\n",
       "      <td>NaN</td>\n",
       "      <td>NaN</td>\n",
       "      <td>NaN</td>\n",
       "      <td>NaN</td>\n",
       "      <td>NaN</td>\n",
       "    </tr>\n",
       "  </tbody>\n",
       "</table>\n",
       "<p>83827 rows × 19 columns</p>\n",
       "</div>"
      ],
      "text/plain": [
       "      continentName continentEnglishName countryName countryEnglishName  \\\n",
       "0                亚洲                 Asia          约旦             Jordan   \n",
       "1                亚洲                 Asia          越南            Vietnam   \n",
       "2                亚洲                 Asia        巴基斯坦           Pakistan   \n",
       "3               北美洲        North America          古巴               Cuba   \n",
       "4                亚洲                 Asia        巴勒斯坦          Palestine   \n",
       "...             ...                  ...         ...                ...   \n",
       "83822            亚洲                 Asia          中国              China   \n",
       "83823            亚洲                 Asia          中国              China   \n",
       "83824            亚洲                 Asia          中国           Hongkong   \n",
       "83825            亚洲                 Asia          中国              China   \n",
       "83826            亚洲                 Asia          中国              China   \n",
       "\n",
       "      provinceName provinceEnglishName  province_zipCode  \\\n",
       "0               约旦              Jordan            955010   \n",
       "1               越南             Vietnam            952011   \n",
       "2             巴基斯坦            Pakistan            953006   \n",
       "3               古巴                Cuba            974004   \n",
       "4             巴勒斯坦           Palestine            955014   \n",
       "...            ...                 ...               ...   \n",
       "83822          辽宁省            Liaoning            210000   \n",
       "83823           台湾              Taiwan            710000   \n",
       "83824           香港            Hongkong            810000   \n",
       "83825         黑龙江省        Heilongjiang            230000   \n",
       "83826          湖南省               Hunan            430000   \n",
       "\n",
       "       province_confirmedCount  province_suspectedCount  province_curedCount  \\\n",
       "0                           53                      0.0                    1   \n",
       "1                           75                      0.0                   16   \n",
       "2                          289                      0.0                    1   \n",
       "3                           10                      0.0                    0   \n",
       "4                           44                      0.0                    0   \n",
       "...                        ...                      ...                  ...   \n",
       "83822                        0                      1.0                    0   \n",
       "83823                        1                      0.0                    0   \n",
       "83824                        0                    117.0                    0   \n",
       "83825                        0                      1.0                    0   \n",
       "83826                        1                      0.0                    0   \n",
       "\n",
       "       province_deadCount           updateTime cityName cityEnglishName  \\\n",
       "0                       0  2020-03-19 00:31:40      NaN             NaN   \n",
       "1                       0  2020-03-19 00:16:32      NaN             NaN   \n",
       "2                       0  2020-03-19 00:12:14      NaN             NaN   \n",
       "3                       1  2020-03-19 00:09:02      NaN             NaN   \n",
       "4                       0  2020-03-19 00:05:48      NaN             NaN   \n",
       "...                   ...                  ...      ...             ...   \n",
       "83822                   0  2020-01-22 03:28:10      NaN             NaN   \n",
       "83823                   0  2020-01-22 03:28:10      NaN             NaN   \n",
       "83824                   0  2020-01-22 03:28:10      NaN             NaN   \n",
       "83825                   0  2020-01-22 03:28:10      NaN             NaN   \n",
       "83826                   0  2020-01-22 03:28:10      NaN             NaN   \n",
       "\n",
       "       city_zipCode  city_confirmedCount  city_suspectedCount  \\\n",
       "0               NaN                  NaN                  NaN   \n",
       "1               NaN                  NaN                  NaN   \n",
       "2               NaN                  NaN                  NaN   \n",
       "3               NaN                  NaN                  NaN   \n",
       "4               NaN                  NaN                  NaN   \n",
       "...             ...                  ...                  ...   \n",
       "83822           NaN                  NaN                  NaN   \n",
       "83823           NaN                  NaN                  NaN   \n",
       "83824           NaN                  NaN                  NaN   \n",
       "83825           NaN                  NaN                  NaN   \n",
       "83826           NaN                  NaN                  NaN   \n",
       "\n",
       "       city_curedCount  city_deadCount  \n",
       "0                  NaN             NaN  \n",
       "1                  NaN             NaN  \n",
       "2                  NaN             NaN  \n",
       "3                  NaN             NaN  \n",
       "4                  NaN             NaN  \n",
       "...                ...             ...  \n",
       "83822              NaN             NaN  \n",
       "83823              NaN             NaN  \n",
       "83824              NaN             NaN  \n",
       "83825              NaN             NaN  \n",
       "83826              NaN             NaN  \n",
       "\n",
       "[83827 rows x 19 columns]"
      ]
     },
     "execution_count": 3,
     "metadata": {},
     "output_type": "execute_result"
    }
   ],
   "source": [
    "covid19_china"
   ]
  },
  {
   "cell_type": "code",
   "execution_count": 4,
   "metadata": {},
   "outputs": [],
   "source": [
    "covid19_china.drop(['province_suspectedCount', 'city_suspectedCount', 'province_zipCode', 'city_zipCode'], axis=1, inplace=True)"
   ]
  },
  {
   "cell_type": "markdown",
   "metadata": {},
   "source": [
    "How many rows in the dataframe?"
   ]
  },
  {
   "cell_type": "code",
   "execution_count": 5,
   "metadata": {},
   "outputs": [
    {
     "data": {
      "text/plain": [
       "83827"
      ]
     },
     "execution_count": 5,
     "metadata": {},
     "output_type": "execute_result"
    }
   ],
   "source": [
    "len(covid19_china)"
   ]
  },
  {
   "cell_type": "markdown",
   "metadata": {},
   "source": [
    "Do some data healing to remove all NaN entries."
   ]
  },
  {
   "cell_type": "code",
   "execution_count": 6,
   "metadata": {},
   "outputs": [],
   "source": [
    "covid19_china = covid19_china.dropna()"
   ]
  },
  {
   "cell_type": "markdown",
   "metadata": {},
   "source": [
    "What's the new number of rows?"
   ]
  },
  {
   "cell_type": "code",
   "execution_count": 7,
   "metadata": {},
   "outputs": [
    {
     "data": {
      "text/plain": [
       "69708"
      ]
     },
     "execution_count": 7,
     "metadata": {},
     "output_type": "execute_result"
    }
   ],
   "source": [
    "len(covid19_china)"
   ]
  },
  {
   "cell_type": "markdown",
   "metadata": {},
   "source": [
    "What are the city names?"
   ]
  },
  {
   "cell_type": "code",
   "execution_count": 8,
   "metadata": {},
   "outputs": [
    {
     "data": {
      "text/plain": [
       "array(['Wuhan', 'Xiaogan', 'Ezhou', ..., 'Changchun', 'Shijiazhuang',\n",
       "       'Yinchuan'], dtype=object)"
      ]
     },
     "execution_count": 8,
     "metadata": {},
     "output_type": "execute_result"
    }
   ],
   "source": [
    "covid19_china.cityEnglishName.values"
   ]
  },
  {
   "cell_type": "markdown",
   "metadata": {},
   "source": [
    "How many rows refer to the city of Wuhan?"
   ]
  },
  {
   "cell_type": "code",
   "execution_count": 9,
   "metadata": {},
   "outputs": [
    {
     "data": {
      "text/html": [
       "<div>\n",
       "<style scoped>\n",
       "    .dataframe tbody tr th:only-of-type {\n",
       "        vertical-align: middle;\n",
       "    }\n",
       "\n",
       "    .dataframe tbody tr th {\n",
       "        vertical-align: top;\n",
       "    }\n",
       "\n",
       "    .dataframe thead th {\n",
       "        text-align: right;\n",
       "    }\n",
       "</style>\n",
       "<table border=\"1\" class=\"dataframe\">\n",
       "  <thead>\n",
       "    <tr style=\"text-align: right;\">\n",
       "      <th></th>\n",
       "      <th>continentName</th>\n",
       "      <th>continentEnglishName</th>\n",
       "      <th>countryName</th>\n",
       "      <th>countryEnglishName</th>\n",
       "      <th>provinceName</th>\n",
       "      <th>provinceEnglishName</th>\n",
       "      <th>province_confirmedCount</th>\n",
       "      <th>province_curedCount</th>\n",
       "      <th>province_deadCount</th>\n",
       "      <th>updateTime</th>\n",
       "      <th>cityName</th>\n",
       "      <th>cityEnglishName</th>\n",
       "      <th>city_confirmedCount</th>\n",
       "      <th>city_curedCount</th>\n",
       "      <th>city_deadCount</th>\n",
       "    </tr>\n",
       "  </thead>\n",
       "  <tbody>\n",
       "    <tr>\n",
       "      <td>149</td>\n",
       "      <td>亚洲</td>\n",
       "      <td>Asia</td>\n",
       "      <td>中国</td>\n",
       "      <td>China</td>\n",
       "      <td>湖北省</td>\n",
       "      <td>Hubei</td>\n",
       "      <td>67800</td>\n",
       "      <td>56927</td>\n",
       "      <td>3122</td>\n",
       "      <td>2020-03-18 22:16:04</td>\n",
       "      <td>武汉</td>\n",
       "      <td>Wuhan</td>\n",
       "      <td>50005.0</td>\n",
       "      <td>40073.0</td>\n",
       "      <td>2490.0</td>\n",
       "    </tr>\n",
       "    <tr>\n",
       "      <td>478</td>\n",
       "      <td>亚洲</td>\n",
       "      <td>Asia</td>\n",
       "      <td>中国</td>\n",
       "      <td>China</td>\n",
       "      <td>湖北省</td>\n",
       "      <td>Hubei</td>\n",
       "      <td>67800</td>\n",
       "      <td>56886</td>\n",
       "      <td>3122</td>\n",
       "      <td>2020-03-18 12:12:22</td>\n",
       "      <td>武汉</td>\n",
       "      <td>Wuhan</td>\n",
       "      <td>50005.0</td>\n",
       "      <td>40032.0</td>\n",
       "      <td>2490.0</td>\n",
       "    </tr>\n",
       "    <tr>\n",
       "      <td>497</td>\n",
       "      <td>亚洲</td>\n",
       "      <td>Asia</td>\n",
       "      <td>中国</td>\n",
       "      <td>China</td>\n",
       "      <td>湖北省</td>\n",
       "      <td>Hubei</td>\n",
       "      <td>67800</td>\n",
       "      <td>56885</td>\n",
       "      <td>3122</td>\n",
       "      <td>2020-03-18 12:11:15</td>\n",
       "      <td>武汉</td>\n",
       "      <td>Wuhan</td>\n",
       "      <td>50005.0</td>\n",
       "      <td>40032.0</td>\n",
       "      <td>2490.0</td>\n",
       "    </tr>\n",
       "    <tr>\n",
       "      <td>1325</td>\n",
       "      <td>亚洲</td>\n",
       "      <td>Asia</td>\n",
       "      <td>中国</td>\n",
       "      <td>China</td>\n",
       "      <td>湖北省</td>\n",
       "      <td>Hubei</td>\n",
       "      <td>67800</td>\n",
       "      <td>56883</td>\n",
       "      <td>3122</td>\n",
       "      <td>2020-03-18 09:19:13</td>\n",
       "      <td>武汉</td>\n",
       "      <td>Wuhan</td>\n",
       "      <td>50004.0</td>\n",
       "      <td>39220.0</td>\n",
       "      <td>2480.0</td>\n",
       "    </tr>\n",
       "    <tr>\n",
       "      <td>2095</td>\n",
       "      <td>亚洲</td>\n",
       "      <td>Asia</td>\n",
       "      <td>中国</td>\n",
       "      <td>China</td>\n",
       "      <td>湖北省</td>\n",
       "      <td>Hubei</td>\n",
       "      <td>67799</td>\n",
       "      <td>56003</td>\n",
       "      <td>3111</td>\n",
       "      <td>2020-03-17 19:47:01</td>\n",
       "      <td>武汉</td>\n",
       "      <td>Wuhan</td>\n",
       "      <td>50004.0</td>\n",
       "      <td>39220.0</td>\n",
       "      <td>2480.0</td>\n",
       "    </tr>\n",
       "    <tr>\n",
       "      <td>...</td>\n",
       "      <td>...</td>\n",
       "      <td>...</td>\n",
       "      <td>...</td>\n",
       "      <td>...</td>\n",
       "      <td>...</td>\n",
       "      <td>...</td>\n",
       "      <td>...</td>\n",
       "      <td>...</td>\n",
       "      <td>...</td>\n",
       "      <td>...</td>\n",
       "      <td>...</td>\n",
       "      <td>...</td>\n",
       "      <td>...</td>\n",
       "      <td>...</td>\n",
       "      <td>...</td>\n",
       "    </tr>\n",
       "    <tr>\n",
       "      <td>83125</td>\n",
       "      <td>亚洲</td>\n",
       "      <td>Asia</td>\n",
       "      <td>中国</td>\n",
       "      <td>China</td>\n",
       "      <td>湖北省</td>\n",
       "      <td>Hubei</td>\n",
       "      <td>549</td>\n",
       "      <td>0</td>\n",
       "      <td>0</td>\n",
       "      <td>2020-01-24 11:49:48</td>\n",
       "      <td>武汉</td>\n",
       "      <td>Wuhan</td>\n",
       "      <td>495.0</td>\n",
       "      <td>0.0</td>\n",
       "      <td>0.0</td>\n",
       "    </tr>\n",
       "    <tr>\n",
       "      <td>83382</td>\n",
       "      <td>亚洲</td>\n",
       "      <td>Asia</td>\n",
       "      <td>中国</td>\n",
       "      <td>China</td>\n",
       "      <td>湖北省</td>\n",
       "      <td>Hubei</td>\n",
       "      <td>549</td>\n",
       "      <td>0</td>\n",
       "      <td>0</td>\n",
       "      <td>2020-01-24 09:50:40</td>\n",
       "      <td>武汉</td>\n",
       "      <td>Wuhan</td>\n",
       "      <td>495.0</td>\n",
       "      <td>0.0</td>\n",
       "      <td>0.0</td>\n",
       "    </tr>\n",
       "    <tr>\n",
       "      <td>83390</td>\n",
       "      <td>亚洲</td>\n",
       "      <td>Asia</td>\n",
       "      <td>中国</td>\n",
       "      <td>China</td>\n",
       "      <td>湖北省</td>\n",
       "      <td>Hubei</td>\n",
       "      <td>549</td>\n",
       "      <td>0</td>\n",
       "      <td>0</td>\n",
       "      <td>2020-01-24 09:49:39</td>\n",
       "      <td>武汉</td>\n",
       "      <td>Wuhan</td>\n",
       "      <td>495.0</td>\n",
       "      <td>0.0</td>\n",
       "      <td>0.0</td>\n",
       "    </tr>\n",
       "    <tr>\n",
       "      <td>83396</td>\n",
       "      <td>亚洲</td>\n",
       "      <td>Asia</td>\n",
       "      <td>中国</td>\n",
       "      <td>China</td>\n",
       "      <td>湖北省</td>\n",
       "      <td>Hubei</td>\n",
       "      <td>549</td>\n",
       "      <td>0</td>\n",
       "      <td>0</td>\n",
       "      <td>2020-01-24 09:48:39</td>\n",
       "      <td>武汉</td>\n",
       "      <td>Wuhan</td>\n",
       "      <td>495.0</td>\n",
       "      <td>0.0</td>\n",
       "      <td>0.0</td>\n",
       "    </tr>\n",
       "    <tr>\n",
       "      <td>83400</td>\n",
       "      <td>亚洲</td>\n",
       "      <td>Asia</td>\n",
       "      <td>中国</td>\n",
       "      <td>China</td>\n",
       "      <td>湖北省</td>\n",
       "      <td>Hubei</td>\n",
       "      <td>549</td>\n",
       "      <td>0</td>\n",
       "      <td>0</td>\n",
       "      <td>2020-01-24 09:47:38</td>\n",
       "      <td>武汉</td>\n",
       "      <td>Wuhan</td>\n",
       "      <td>495.0</td>\n",
       "      <td>0.0</td>\n",
       "      <td>0.0</td>\n",
       "    </tr>\n",
       "  </tbody>\n",
       "</table>\n",
       "<p>376 rows × 15 columns</p>\n",
       "</div>"
      ],
      "text/plain": [
       "      continentName continentEnglishName countryName countryEnglishName  \\\n",
       "149              亚洲                 Asia          中国              China   \n",
       "478              亚洲                 Asia          中国              China   \n",
       "497              亚洲                 Asia          中国              China   \n",
       "1325             亚洲                 Asia          中国              China   \n",
       "2095             亚洲                 Asia          中国              China   \n",
       "...             ...                  ...         ...                ...   \n",
       "83125            亚洲                 Asia          中国              China   \n",
       "83382            亚洲                 Asia          中国              China   \n",
       "83390            亚洲                 Asia          中国              China   \n",
       "83396            亚洲                 Asia          中国              China   \n",
       "83400            亚洲                 Asia          中国              China   \n",
       "\n",
       "      provinceName provinceEnglishName  province_confirmedCount  \\\n",
       "149            湖北省               Hubei                    67800   \n",
       "478            湖北省               Hubei                    67800   \n",
       "497            湖北省               Hubei                    67800   \n",
       "1325           湖北省               Hubei                    67800   \n",
       "2095           湖北省               Hubei                    67799   \n",
       "...            ...                 ...                      ...   \n",
       "83125          湖北省               Hubei                      549   \n",
       "83382          湖北省               Hubei                      549   \n",
       "83390          湖北省               Hubei                      549   \n",
       "83396          湖北省               Hubei                      549   \n",
       "83400          湖北省               Hubei                      549   \n",
       "\n",
       "       province_curedCount  province_deadCount           updateTime cityName  \\\n",
       "149                  56927                3122  2020-03-18 22:16:04       武汉   \n",
       "478                  56886                3122  2020-03-18 12:12:22       武汉   \n",
       "497                  56885                3122  2020-03-18 12:11:15       武汉   \n",
       "1325                 56883                3122  2020-03-18 09:19:13       武汉   \n",
       "2095                 56003                3111  2020-03-17 19:47:01       武汉   \n",
       "...                    ...                 ...                  ...      ...   \n",
       "83125                    0                   0  2020-01-24 11:49:48       武汉   \n",
       "83382                    0                   0  2020-01-24 09:50:40       武汉   \n",
       "83390                    0                   0  2020-01-24 09:49:39       武汉   \n",
       "83396                    0                   0  2020-01-24 09:48:39       武汉   \n",
       "83400                    0                   0  2020-01-24 09:47:38       武汉   \n",
       "\n",
       "      cityEnglishName  city_confirmedCount  city_curedCount  city_deadCount  \n",
       "149             Wuhan              50005.0          40073.0          2490.0  \n",
       "478             Wuhan              50005.0          40032.0          2490.0  \n",
       "497             Wuhan              50005.0          40032.0          2490.0  \n",
       "1325            Wuhan              50004.0          39220.0          2480.0  \n",
       "2095            Wuhan              50004.0          39220.0          2480.0  \n",
       "...               ...                  ...              ...             ...  \n",
       "83125           Wuhan                495.0              0.0             0.0  \n",
       "83382           Wuhan                495.0              0.0             0.0  \n",
       "83390           Wuhan                495.0              0.0             0.0  \n",
       "83396           Wuhan                495.0              0.0             0.0  \n",
       "83400           Wuhan                495.0              0.0             0.0  \n",
       "\n",
       "[376 rows x 15 columns]"
      ]
     },
     "execution_count": 9,
     "metadata": {},
     "output_type": "execute_result"
    }
   ],
   "source": [
    "covid19_wuhan = covid19_china[covid19_china[\"cityEnglishName\"] == \"Wuhan\"]\n",
    "covid19_wuhan"
   ]
  },
  {
   "cell_type": "markdown",
   "metadata": {},
   "source": [
    "Print the dataframe with rows that only refer to Wuhan."
   ]
  },
  {
   "cell_type": "code",
   "execution_count": 10,
   "metadata": {},
   "outputs": [
    {
     "data": {
      "text/plain": [
       "376"
      ]
     },
     "execution_count": 10,
     "metadata": {},
     "output_type": "execute_result"
    }
   ],
   "source": [
    "len(covid19_wuhan)"
   ]
  },
  {
   "cell_type": "markdown",
   "metadata": {},
   "source": [
    "Sort by 'updateTime'."
   ]
  },
  {
   "cell_type": "code",
   "execution_count": 12,
   "metadata": {
    "scrolled": true
   },
   "outputs": [
    {
     "data": {
      "text/html": [
       "<div>\n",
       "<style scoped>\n",
       "    .dataframe tbody tr th:only-of-type {\n",
       "        vertical-align: middle;\n",
       "    }\n",
       "\n",
       "    .dataframe tbody tr th {\n",
       "        vertical-align: top;\n",
       "    }\n",
       "\n",
       "    .dataframe thead th {\n",
       "        text-align: right;\n",
       "    }\n",
       "</style>\n",
       "<table border=\"1\" class=\"dataframe\">\n",
       "  <thead>\n",
       "    <tr style=\"text-align: right;\">\n",
       "      <th></th>\n",
       "      <th>continentName</th>\n",
       "      <th>continentEnglishName</th>\n",
       "      <th>countryName</th>\n",
       "      <th>countryEnglishName</th>\n",
       "      <th>provinceName</th>\n",
       "      <th>provinceEnglishName</th>\n",
       "      <th>province_confirmedCount</th>\n",
       "      <th>province_curedCount</th>\n",
       "      <th>province_deadCount</th>\n",
       "      <th>updateTime</th>\n",
       "      <th>cityName</th>\n",
       "      <th>cityEnglishName</th>\n",
       "      <th>city_confirmedCount</th>\n",
       "      <th>city_curedCount</th>\n",
       "      <th>city_deadCount</th>\n",
       "    </tr>\n",
       "  </thead>\n",
       "  <tbody>\n",
       "    <tr>\n",
       "      <td>83400</td>\n",
       "      <td>亚洲</td>\n",
       "      <td>Asia</td>\n",
       "      <td>中国</td>\n",
       "      <td>China</td>\n",
       "      <td>湖北省</td>\n",
       "      <td>Hubei</td>\n",
       "      <td>549</td>\n",
       "      <td>0</td>\n",
       "      <td>0</td>\n",
       "      <td>2020-01-24 09:47:38</td>\n",
       "      <td>武汉</td>\n",
       "      <td>Wuhan</td>\n",
       "      <td>495.0</td>\n",
       "      <td>0.0</td>\n",
       "      <td>0.0</td>\n",
       "    </tr>\n",
       "    <tr>\n",
       "      <td>83396</td>\n",
       "      <td>亚洲</td>\n",
       "      <td>Asia</td>\n",
       "      <td>中国</td>\n",
       "      <td>China</td>\n",
       "      <td>湖北省</td>\n",
       "      <td>Hubei</td>\n",
       "      <td>549</td>\n",
       "      <td>0</td>\n",
       "      <td>0</td>\n",
       "      <td>2020-01-24 09:48:39</td>\n",
       "      <td>武汉</td>\n",
       "      <td>Wuhan</td>\n",
       "      <td>495.0</td>\n",
       "      <td>0.0</td>\n",
       "      <td>0.0</td>\n",
       "    </tr>\n",
       "    <tr>\n",
       "      <td>83390</td>\n",
       "      <td>亚洲</td>\n",
       "      <td>Asia</td>\n",
       "      <td>中国</td>\n",
       "      <td>China</td>\n",
       "      <td>湖北省</td>\n",
       "      <td>Hubei</td>\n",
       "      <td>549</td>\n",
       "      <td>0</td>\n",
       "      <td>0</td>\n",
       "      <td>2020-01-24 09:49:39</td>\n",
       "      <td>武汉</td>\n",
       "      <td>Wuhan</td>\n",
       "      <td>495.0</td>\n",
       "      <td>0.0</td>\n",
       "      <td>0.0</td>\n",
       "    </tr>\n",
       "    <tr>\n",
       "      <td>83382</td>\n",
       "      <td>亚洲</td>\n",
       "      <td>Asia</td>\n",
       "      <td>中国</td>\n",
       "      <td>China</td>\n",
       "      <td>湖北省</td>\n",
       "      <td>Hubei</td>\n",
       "      <td>549</td>\n",
       "      <td>0</td>\n",
       "      <td>0</td>\n",
       "      <td>2020-01-24 09:50:40</td>\n",
       "      <td>武汉</td>\n",
       "      <td>Wuhan</td>\n",
       "      <td>495.0</td>\n",
       "      <td>0.0</td>\n",
       "      <td>0.0</td>\n",
       "    </tr>\n",
       "    <tr>\n",
       "      <td>83125</td>\n",
       "      <td>亚洲</td>\n",
       "      <td>Asia</td>\n",
       "      <td>中国</td>\n",
       "      <td>China</td>\n",
       "      <td>湖北省</td>\n",
       "      <td>Hubei</td>\n",
       "      <td>549</td>\n",
       "      <td>0</td>\n",
       "      <td>0</td>\n",
       "      <td>2020-01-24 11:49:48</td>\n",
       "      <td>武汉</td>\n",
       "      <td>Wuhan</td>\n",
       "      <td>495.0</td>\n",
       "      <td>0.0</td>\n",
       "      <td>0.0</td>\n",
       "    </tr>\n",
       "    <tr>\n",
       "      <td>...</td>\n",
       "      <td>...</td>\n",
       "      <td>...</td>\n",
       "      <td>...</td>\n",
       "      <td>...</td>\n",
       "      <td>...</td>\n",
       "      <td>...</td>\n",
       "      <td>...</td>\n",
       "      <td>...</td>\n",
       "      <td>...</td>\n",
       "      <td>...</td>\n",
       "      <td>...</td>\n",
       "      <td>...</td>\n",
       "      <td>...</td>\n",
       "      <td>...</td>\n",
       "      <td>...</td>\n",
       "    </tr>\n",
       "    <tr>\n",
       "      <td>2095</td>\n",
       "      <td>亚洲</td>\n",
       "      <td>Asia</td>\n",
       "      <td>中国</td>\n",
       "      <td>China</td>\n",
       "      <td>湖北省</td>\n",
       "      <td>Hubei</td>\n",
       "      <td>67799</td>\n",
       "      <td>56003</td>\n",
       "      <td>3111</td>\n",
       "      <td>2020-03-17 19:47:01</td>\n",
       "      <td>武汉</td>\n",
       "      <td>Wuhan</td>\n",
       "      <td>50004.0</td>\n",
       "      <td>39220.0</td>\n",
       "      <td>2480.0</td>\n",
       "    </tr>\n",
       "    <tr>\n",
       "      <td>1325</td>\n",
       "      <td>亚洲</td>\n",
       "      <td>Asia</td>\n",
       "      <td>中国</td>\n",
       "      <td>China</td>\n",
       "      <td>湖北省</td>\n",
       "      <td>Hubei</td>\n",
       "      <td>67800</td>\n",
       "      <td>56883</td>\n",
       "      <td>3122</td>\n",
       "      <td>2020-03-18 09:19:13</td>\n",
       "      <td>武汉</td>\n",
       "      <td>Wuhan</td>\n",
       "      <td>50004.0</td>\n",
       "      <td>39220.0</td>\n",
       "      <td>2480.0</td>\n",
       "    </tr>\n",
       "    <tr>\n",
       "      <td>497</td>\n",
       "      <td>亚洲</td>\n",
       "      <td>Asia</td>\n",
       "      <td>中国</td>\n",
       "      <td>China</td>\n",
       "      <td>湖北省</td>\n",
       "      <td>Hubei</td>\n",
       "      <td>67800</td>\n",
       "      <td>56885</td>\n",
       "      <td>3122</td>\n",
       "      <td>2020-03-18 12:11:15</td>\n",
       "      <td>武汉</td>\n",
       "      <td>Wuhan</td>\n",
       "      <td>50005.0</td>\n",
       "      <td>40032.0</td>\n",
       "      <td>2490.0</td>\n",
       "    </tr>\n",
       "    <tr>\n",
       "      <td>478</td>\n",
       "      <td>亚洲</td>\n",
       "      <td>Asia</td>\n",
       "      <td>中国</td>\n",
       "      <td>China</td>\n",
       "      <td>湖北省</td>\n",
       "      <td>Hubei</td>\n",
       "      <td>67800</td>\n",
       "      <td>56886</td>\n",
       "      <td>3122</td>\n",
       "      <td>2020-03-18 12:12:22</td>\n",
       "      <td>武汉</td>\n",
       "      <td>Wuhan</td>\n",
       "      <td>50005.0</td>\n",
       "      <td>40032.0</td>\n",
       "      <td>2490.0</td>\n",
       "    </tr>\n",
       "    <tr>\n",
       "      <td>149</td>\n",
       "      <td>亚洲</td>\n",
       "      <td>Asia</td>\n",
       "      <td>中国</td>\n",
       "      <td>China</td>\n",
       "      <td>湖北省</td>\n",
       "      <td>Hubei</td>\n",
       "      <td>67800</td>\n",
       "      <td>56927</td>\n",
       "      <td>3122</td>\n",
       "      <td>2020-03-18 22:16:04</td>\n",
       "      <td>武汉</td>\n",
       "      <td>Wuhan</td>\n",
       "      <td>50005.0</td>\n",
       "      <td>40073.0</td>\n",
       "      <td>2490.0</td>\n",
       "    </tr>\n",
       "  </tbody>\n",
       "</table>\n",
       "<p>376 rows × 15 columns</p>\n",
       "</div>"
      ],
      "text/plain": [
       "      continentName continentEnglishName countryName countryEnglishName  \\\n",
       "83400            亚洲                 Asia          中国              China   \n",
       "83396            亚洲                 Asia          中国              China   \n",
       "83390            亚洲                 Asia          中国              China   \n",
       "83382            亚洲                 Asia          中国              China   \n",
       "83125            亚洲                 Asia          中国              China   \n",
       "...             ...                  ...         ...                ...   \n",
       "2095             亚洲                 Asia          中国              China   \n",
       "1325             亚洲                 Asia          中国              China   \n",
       "497              亚洲                 Asia          中国              China   \n",
       "478              亚洲                 Asia          中国              China   \n",
       "149              亚洲                 Asia          中国              China   \n",
       "\n",
       "      provinceName provinceEnglishName  province_confirmedCount  \\\n",
       "83400          湖北省               Hubei                      549   \n",
       "83396          湖北省               Hubei                      549   \n",
       "83390          湖北省               Hubei                      549   \n",
       "83382          湖北省               Hubei                      549   \n",
       "83125          湖北省               Hubei                      549   \n",
       "...            ...                 ...                      ...   \n",
       "2095           湖北省               Hubei                    67799   \n",
       "1325           湖北省               Hubei                    67800   \n",
       "497            湖北省               Hubei                    67800   \n",
       "478            湖北省               Hubei                    67800   \n",
       "149            湖北省               Hubei                    67800   \n",
       "\n",
       "       province_curedCount  province_deadCount           updateTime cityName  \\\n",
       "83400                    0                   0  2020-01-24 09:47:38       武汉   \n",
       "83396                    0                   0  2020-01-24 09:48:39       武汉   \n",
       "83390                    0                   0  2020-01-24 09:49:39       武汉   \n",
       "83382                    0                   0  2020-01-24 09:50:40       武汉   \n",
       "83125                    0                   0  2020-01-24 11:49:48       武汉   \n",
       "...                    ...                 ...                  ...      ...   \n",
       "2095                 56003                3111  2020-03-17 19:47:01       武汉   \n",
       "1325                 56883                3122  2020-03-18 09:19:13       武汉   \n",
       "497                  56885                3122  2020-03-18 12:11:15       武汉   \n",
       "478                  56886                3122  2020-03-18 12:12:22       武汉   \n",
       "149                  56927                3122  2020-03-18 22:16:04       武汉   \n",
       "\n",
       "      cityEnglishName  city_confirmedCount  city_curedCount  city_deadCount  \n",
       "83400           Wuhan                495.0              0.0             0.0  \n",
       "83396           Wuhan                495.0              0.0             0.0  \n",
       "83390           Wuhan                495.0              0.0             0.0  \n",
       "83382           Wuhan                495.0              0.0             0.0  \n",
       "83125           Wuhan                495.0              0.0             0.0  \n",
       "...               ...                  ...              ...             ...  \n",
       "2095            Wuhan              50004.0          39220.0          2480.0  \n",
       "1325            Wuhan              50004.0          39220.0          2480.0  \n",
       "497             Wuhan              50005.0          40032.0          2490.0  \n",
       "478             Wuhan              50005.0          40032.0          2490.0  \n",
       "149             Wuhan              50005.0          40073.0          2490.0  \n",
       "\n",
       "[376 rows x 15 columns]"
      ]
     },
     "execution_count": 12,
     "metadata": {},
     "output_type": "execute_result"
    }
   ],
   "source": [
    "covid19_wuhan = covid19_wuhan.sort_values('updateTime')\n",
    "covid19_wuhan"
   ]
  },
  {
   "cell_type": "markdown",
   "metadata": {},
   "source": [
    "Reset the dataframe's index to be 'updateTime'"
   ]
  },
  {
   "cell_type": "code",
   "execution_count": 13,
   "metadata": {},
   "outputs": [
    {
     "data": {
      "text/html": [
       "<div>\n",
       "<style scoped>\n",
       "    .dataframe tbody tr th:only-of-type {\n",
       "        vertical-align: middle;\n",
       "    }\n",
       "\n",
       "    .dataframe tbody tr th {\n",
       "        vertical-align: top;\n",
       "    }\n",
       "\n",
       "    .dataframe thead th {\n",
       "        text-align: right;\n",
       "    }\n",
       "</style>\n",
       "<table border=\"1\" class=\"dataframe\">\n",
       "  <thead>\n",
       "    <tr style=\"text-align: right;\">\n",
       "      <th></th>\n",
       "      <th>continentName</th>\n",
       "      <th>continentEnglishName</th>\n",
       "      <th>countryName</th>\n",
       "      <th>countryEnglishName</th>\n",
       "      <th>provinceName</th>\n",
       "      <th>provinceEnglishName</th>\n",
       "      <th>province_confirmedCount</th>\n",
       "      <th>province_curedCount</th>\n",
       "      <th>province_deadCount</th>\n",
       "      <th>cityName</th>\n",
       "      <th>cityEnglishName</th>\n",
       "      <th>city_confirmedCount</th>\n",
       "      <th>city_curedCount</th>\n",
       "      <th>city_deadCount</th>\n",
       "    </tr>\n",
       "    <tr>\n",
       "      <th>updateTime</th>\n",
       "      <th></th>\n",
       "      <th></th>\n",
       "      <th></th>\n",
       "      <th></th>\n",
       "      <th></th>\n",
       "      <th></th>\n",
       "      <th></th>\n",
       "      <th></th>\n",
       "      <th></th>\n",
       "      <th></th>\n",
       "      <th></th>\n",
       "      <th></th>\n",
       "      <th></th>\n",
       "      <th></th>\n",
       "    </tr>\n",
       "  </thead>\n",
       "  <tbody>\n",
       "    <tr>\n",
       "      <td>2020-01-24 09:47:38</td>\n",
       "      <td>亚洲</td>\n",
       "      <td>Asia</td>\n",
       "      <td>中国</td>\n",
       "      <td>China</td>\n",
       "      <td>湖北省</td>\n",
       "      <td>Hubei</td>\n",
       "      <td>549</td>\n",
       "      <td>0</td>\n",
       "      <td>0</td>\n",
       "      <td>武汉</td>\n",
       "      <td>Wuhan</td>\n",
       "      <td>495.0</td>\n",
       "      <td>0.0</td>\n",
       "      <td>0.0</td>\n",
       "    </tr>\n",
       "    <tr>\n",
       "      <td>2020-01-24 09:48:39</td>\n",
       "      <td>亚洲</td>\n",
       "      <td>Asia</td>\n",
       "      <td>中国</td>\n",
       "      <td>China</td>\n",
       "      <td>湖北省</td>\n",
       "      <td>Hubei</td>\n",
       "      <td>549</td>\n",
       "      <td>0</td>\n",
       "      <td>0</td>\n",
       "      <td>武汉</td>\n",
       "      <td>Wuhan</td>\n",
       "      <td>495.0</td>\n",
       "      <td>0.0</td>\n",
       "      <td>0.0</td>\n",
       "    </tr>\n",
       "    <tr>\n",
       "      <td>2020-01-24 09:49:39</td>\n",
       "      <td>亚洲</td>\n",
       "      <td>Asia</td>\n",
       "      <td>中国</td>\n",
       "      <td>China</td>\n",
       "      <td>湖北省</td>\n",
       "      <td>Hubei</td>\n",
       "      <td>549</td>\n",
       "      <td>0</td>\n",
       "      <td>0</td>\n",
       "      <td>武汉</td>\n",
       "      <td>Wuhan</td>\n",
       "      <td>495.0</td>\n",
       "      <td>0.0</td>\n",
       "      <td>0.0</td>\n",
       "    </tr>\n",
       "    <tr>\n",
       "      <td>2020-01-24 09:50:40</td>\n",
       "      <td>亚洲</td>\n",
       "      <td>Asia</td>\n",
       "      <td>中国</td>\n",
       "      <td>China</td>\n",
       "      <td>湖北省</td>\n",
       "      <td>Hubei</td>\n",
       "      <td>549</td>\n",
       "      <td>0</td>\n",
       "      <td>0</td>\n",
       "      <td>武汉</td>\n",
       "      <td>Wuhan</td>\n",
       "      <td>495.0</td>\n",
       "      <td>0.0</td>\n",
       "      <td>0.0</td>\n",
       "    </tr>\n",
       "    <tr>\n",
       "      <td>2020-01-24 11:49:48</td>\n",
       "      <td>亚洲</td>\n",
       "      <td>Asia</td>\n",
       "      <td>中国</td>\n",
       "      <td>China</td>\n",
       "      <td>湖北省</td>\n",
       "      <td>Hubei</td>\n",
       "      <td>549</td>\n",
       "      <td>0</td>\n",
       "      <td>0</td>\n",
       "      <td>武汉</td>\n",
       "      <td>Wuhan</td>\n",
       "      <td>495.0</td>\n",
       "      <td>0.0</td>\n",
       "      <td>0.0</td>\n",
       "    </tr>\n",
       "    <tr>\n",
       "      <td>...</td>\n",
       "      <td>...</td>\n",
       "      <td>...</td>\n",
       "      <td>...</td>\n",
       "      <td>...</td>\n",
       "      <td>...</td>\n",
       "      <td>...</td>\n",
       "      <td>...</td>\n",
       "      <td>...</td>\n",
       "      <td>...</td>\n",
       "      <td>...</td>\n",
       "      <td>...</td>\n",
       "      <td>...</td>\n",
       "      <td>...</td>\n",
       "      <td>...</td>\n",
       "    </tr>\n",
       "    <tr>\n",
       "      <td>2020-03-17 19:47:01</td>\n",
       "      <td>亚洲</td>\n",
       "      <td>Asia</td>\n",
       "      <td>中国</td>\n",
       "      <td>China</td>\n",
       "      <td>湖北省</td>\n",
       "      <td>Hubei</td>\n",
       "      <td>67799</td>\n",
       "      <td>56003</td>\n",
       "      <td>3111</td>\n",
       "      <td>武汉</td>\n",
       "      <td>Wuhan</td>\n",
       "      <td>50004.0</td>\n",
       "      <td>39220.0</td>\n",
       "      <td>2480.0</td>\n",
       "    </tr>\n",
       "    <tr>\n",
       "      <td>2020-03-18 09:19:13</td>\n",
       "      <td>亚洲</td>\n",
       "      <td>Asia</td>\n",
       "      <td>中国</td>\n",
       "      <td>China</td>\n",
       "      <td>湖北省</td>\n",
       "      <td>Hubei</td>\n",
       "      <td>67800</td>\n",
       "      <td>56883</td>\n",
       "      <td>3122</td>\n",
       "      <td>武汉</td>\n",
       "      <td>Wuhan</td>\n",
       "      <td>50004.0</td>\n",
       "      <td>39220.0</td>\n",
       "      <td>2480.0</td>\n",
       "    </tr>\n",
       "    <tr>\n",
       "      <td>2020-03-18 12:11:15</td>\n",
       "      <td>亚洲</td>\n",
       "      <td>Asia</td>\n",
       "      <td>中国</td>\n",
       "      <td>China</td>\n",
       "      <td>湖北省</td>\n",
       "      <td>Hubei</td>\n",
       "      <td>67800</td>\n",
       "      <td>56885</td>\n",
       "      <td>3122</td>\n",
       "      <td>武汉</td>\n",
       "      <td>Wuhan</td>\n",
       "      <td>50005.0</td>\n",
       "      <td>40032.0</td>\n",
       "      <td>2490.0</td>\n",
       "    </tr>\n",
       "    <tr>\n",
       "      <td>2020-03-18 12:12:22</td>\n",
       "      <td>亚洲</td>\n",
       "      <td>Asia</td>\n",
       "      <td>中国</td>\n",
       "      <td>China</td>\n",
       "      <td>湖北省</td>\n",
       "      <td>Hubei</td>\n",
       "      <td>67800</td>\n",
       "      <td>56886</td>\n",
       "      <td>3122</td>\n",
       "      <td>武汉</td>\n",
       "      <td>Wuhan</td>\n",
       "      <td>50005.0</td>\n",
       "      <td>40032.0</td>\n",
       "      <td>2490.0</td>\n",
       "    </tr>\n",
       "    <tr>\n",
       "      <td>2020-03-18 22:16:04</td>\n",
       "      <td>亚洲</td>\n",
       "      <td>Asia</td>\n",
       "      <td>中国</td>\n",
       "      <td>China</td>\n",
       "      <td>湖北省</td>\n",
       "      <td>Hubei</td>\n",
       "      <td>67800</td>\n",
       "      <td>56927</td>\n",
       "      <td>3122</td>\n",
       "      <td>武汉</td>\n",
       "      <td>Wuhan</td>\n",
       "      <td>50005.0</td>\n",
       "      <td>40073.0</td>\n",
       "      <td>2490.0</td>\n",
       "    </tr>\n",
       "  </tbody>\n",
       "</table>\n",
       "<p>376 rows × 14 columns</p>\n",
       "</div>"
      ],
      "text/plain": [
       "                    continentName continentEnglishName countryName  \\\n",
       "updateTime                                                           \n",
       "2020-01-24 09:47:38            亚洲                 Asia          中国   \n",
       "2020-01-24 09:48:39            亚洲                 Asia          中国   \n",
       "2020-01-24 09:49:39            亚洲                 Asia          中国   \n",
       "2020-01-24 09:50:40            亚洲                 Asia          中国   \n",
       "2020-01-24 11:49:48            亚洲                 Asia          中国   \n",
       "...                           ...                  ...         ...   \n",
       "2020-03-17 19:47:01            亚洲                 Asia          中国   \n",
       "2020-03-18 09:19:13            亚洲                 Asia          中国   \n",
       "2020-03-18 12:11:15            亚洲                 Asia          中国   \n",
       "2020-03-18 12:12:22            亚洲                 Asia          中国   \n",
       "2020-03-18 22:16:04            亚洲                 Asia          中国   \n",
       "\n",
       "                    countryEnglishName provinceName provinceEnglishName  \\\n",
       "updateTime                                                                \n",
       "2020-01-24 09:47:38              China          湖北省               Hubei   \n",
       "2020-01-24 09:48:39              China          湖北省               Hubei   \n",
       "2020-01-24 09:49:39              China          湖北省               Hubei   \n",
       "2020-01-24 09:50:40              China          湖北省               Hubei   \n",
       "2020-01-24 11:49:48              China          湖北省               Hubei   \n",
       "...                                ...          ...                 ...   \n",
       "2020-03-17 19:47:01              China          湖北省               Hubei   \n",
       "2020-03-18 09:19:13              China          湖北省               Hubei   \n",
       "2020-03-18 12:11:15              China          湖北省               Hubei   \n",
       "2020-03-18 12:12:22              China          湖北省               Hubei   \n",
       "2020-03-18 22:16:04              China          湖北省               Hubei   \n",
       "\n",
       "                     province_confirmedCount  province_curedCount  \\\n",
       "updateTime                                                          \n",
       "2020-01-24 09:47:38                      549                    0   \n",
       "2020-01-24 09:48:39                      549                    0   \n",
       "2020-01-24 09:49:39                      549                    0   \n",
       "2020-01-24 09:50:40                      549                    0   \n",
       "2020-01-24 11:49:48                      549                    0   \n",
       "...                                      ...                  ...   \n",
       "2020-03-17 19:47:01                    67799                56003   \n",
       "2020-03-18 09:19:13                    67800                56883   \n",
       "2020-03-18 12:11:15                    67800                56885   \n",
       "2020-03-18 12:12:22                    67800                56886   \n",
       "2020-03-18 22:16:04                    67800                56927   \n",
       "\n",
       "                     province_deadCount cityName cityEnglishName  \\\n",
       "updateTime                                                         \n",
       "2020-01-24 09:47:38                   0       武汉           Wuhan   \n",
       "2020-01-24 09:48:39                   0       武汉           Wuhan   \n",
       "2020-01-24 09:49:39                   0       武汉           Wuhan   \n",
       "2020-01-24 09:50:40                   0       武汉           Wuhan   \n",
       "2020-01-24 11:49:48                   0       武汉           Wuhan   \n",
       "...                                 ...      ...             ...   \n",
       "2020-03-17 19:47:01                3111       武汉           Wuhan   \n",
       "2020-03-18 09:19:13                3122       武汉           Wuhan   \n",
       "2020-03-18 12:11:15                3122       武汉           Wuhan   \n",
       "2020-03-18 12:12:22                3122       武汉           Wuhan   \n",
       "2020-03-18 22:16:04                3122       武汉           Wuhan   \n",
       "\n",
       "                     city_confirmedCount  city_curedCount  city_deadCount  \n",
       "updateTime                                                                 \n",
       "2020-01-24 09:47:38                495.0              0.0             0.0  \n",
       "2020-01-24 09:48:39                495.0              0.0             0.0  \n",
       "2020-01-24 09:49:39                495.0              0.0             0.0  \n",
       "2020-01-24 09:50:40                495.0              0.0             0.0  \n",
       "2020-01-24 11:49:48                495.0              0.0             0.0  \n",
       "...                                  ...              ...             ...  \n",
       "2020-03-17 19:47:01              50004.0          39220.0          2480.0  \n",
       "2020-03-18 09:19:13              50004.0          39220.0          2480.0  \n",
       "2020-03-18 12:11:15              50005.0          40032.0          2490.0  \n",
       "2020-03-18 12:12:22              50005.0          40032.0          2490.0  \n",
       "2020-03-18 22:16:04              50005.0          40073.0          2490.0  \n",
       "\n",
       "[376 rows x 14 columns]"
      ]
     },
     "execution_count": 13,
     "metadata": {},
     "output_type": "execute_result"
    }
   ],
   "source": [
    "covid19_wuhan = covid19_wuhan.set_index('updateTime')\n",
    "covid19_wuhan"
   ]
  },
  {
   "cell_type": "markdown",
   "metadata": {},
   "source": [
    "Plot 'confirmedCount', 'curedCount', and 'deadCount' for the city of Wuhan."
   ]
  },
  {
   "cell_type": "code",
   "execution_count": 14,
   "metadata": {},
   "outputs": [
    {
     "data": {
      "text/plain": [
       "<matplotlib.axes._subplots.AxesSubplot at 0x1c23e729ec8>"
      ]
     },
     "execution_count": 14,
     "metadata": {},
     "output_type": "execute_result"
    },
    {
     "data": {
      "image/png": "[encoded data removed]",
      "text/plain": [
       "<Figure size 432x288 with 1 Axes>"
      ]
     },
     "metadata": {
      "needs_background": "light"
     },
     "output_type": "display_data"
    },
    {
     "data": {
      "text/plain": [
       "<Figure size 800x1600 with 0 Axes>"
      ]
     },
     "metadata": {},
     "output_type": "display_data"
    }
   ],
   "source": [
    "import seaborn as sns\n",
    "ax = plt.gca()\n",
    "plt.figure(num=None, figsize=(10, 20), dpi=80, facecolor='w', edgecolor='k')\n",
    "covid19_wuhan.plot(kind='line',  y='city_confirmedCount', ax=ax)\n",
    "covid19_wuhan.plot(kind='line',  y='city_curedCount', ax=ax)\n",
    "covid19_wuhan.plot(kind='line',  y='city_deadCount', ax=ax)"
   ]
  },
  {
   "cell_type": "markdown",
   "metadata": {},
   "source": [
    "Do the same for the province of Hubei (including resetting the index)."
   ]
  },
  {
   "cell_type": "code",
   "execution_count": 15,
   "metadata": {},
   "outputs": [
    {
     "data": {
      "text/html": [
       "<div>\n",
       "<style scoped>\n",
       "    .dataframe tbody tr th:only-of-type {\n",
       "        vertical-align: middle;\n",
       "    }\n",
       "\n",
       "    .dataframe tbody tr th {\n",
       "        vertical-align: top;\n",
       "    }\n",
       "\n",
       "    .dataframe thead th {\n",
       "        text-align: right;\n",
       "    }\n",
       "</style>\n",
       "<table border=\"1\" class=\"dataframe\">\n",
       "  <thead>\n",
       "    <tr style=\"text-align: right;\">\n",
       "      <th></th>\n",
       "      <th>continentName</th>\n",
       "      <th>continentEnglishName</th>\n",
       "      <th>countryName</th>\n",
       "      <th>countryEnglishName</th>\n",
       "      <th>provinceName</th>\n",
       "      <th>provinceEnglishName</th>\n",
       "      <th>province_confirmedCount</th>\n",
       "      <th>province_curedCount</th>\n",
       "      <th>province_deadCount</th>\n",
       "      <th>cityName</th>\n",
       "      <th>cityEnglishName</th>\n",
       "      <th>city_confirmedCount</th>\n",
       "      <th>city_curedCount</th>\n",
       "      <th>city_deadCount</th>\n",
       "    </tr>\n",
       "    <tr>\n",
       "      <th>updateTime</th>\n",
       "      <th></th>\n",
       "      <th></th>\n",
       "      <th></th>\n",
       "      <th></th>\n",
       "      <th></th>\n",
       "      <th></th>\n",
       "      <th></th>\n",
       "      <th></th>\n",
       "      <th></th>\n",
       "      <th></th>\n",
       "      <th></th>\n",
       "      <th></th>\n",
       "      <th></th>\n",
       "      <th></th>\n",
       "    </tr>\n",
       "  </thead>\n",
       "  <tbody>\n",
       "    <tr>\n",
       "      <td>2020-01-24 09:47:38</td>\n",
       "      <td>亚洲</td>\n",
       "      <td>Asia</td>\n",
       "      <td>中国</td>\n",
       "      <td>China</td>\n",
       "      <td>湖北省</td>\n",
       "      <td>Hubei</td>\n",
       "      <td>549</td>\n",
       "      <td>0</td>\n",
       "      <td>0</td>\n",
       "      <td>孝感</td>\n",
       "      <td>Xiaogan</td>\n",
       "      <td>22.0</td>\n",
       "      <td>0.0</td>\n",
       "      <td>0.0</td>\n",
       "    </tr>\n",
       "    <tr>\n",
       "      <td>2020-01-24 09:47:38</td>\n",
       "      <td>亚洲</td>\n",
       "      <td>Asia</td>\n",
       "      <td>中国</td>\n",
       "      <td>China</td>\n",
       "      <td>湖北省</td>\n",
       "      <td>Hubei</td>\n",
       "      <td>549</td>\n",
       "      <td>0</td>\n",
       "      <td>0</td>\n",
       "      <td>武汉</td>\n",
       "      <td>Wuhan</td>\n",
       "      <td>495.0</td>\n",
       "      <td>0.0</td>\n",
       "      <td>0.0</td>\n",
       "    </tr>\n",
       "    <tr>\n",
       "      <td>2020-01-24 09:48:39</td>\n",
       "      <td>亚洲</td>\n",
       "      <td>Asia</td>\n",
       "      <td>中国</td>\n",
       "      <td>China</td>\n",
       "      <td>湖北省</td>\n",
       "      <td>Hubei</td>\n",
       "      <td>549</td>\n",
       "      <td>0</td>\n",
       "      <td>0</td>\n",
       "      <td>黄冈</td>\n",
       "      <td>Huanggang</td>\n",
       "      <td>12.0</td>\n",
       "      <td>0.0</td>\n",
       "      <td>0.0</td>\n",
       "    </tr>\n",
       "    <tr>\n",
       "      <td>2020-01-24 09:48:39</td>\n",
       "      <td>亚洲</td>\n",
       "      <td>Asia</td>\n",
       "      <td>中国</td>\n",
       "      <td>China</td>\n",
       "      <td>湖北省</td>\n",
       "      <td>Hubei</td>\n",
       "      <td>549</td>\n",
       "      <td>0</td>\n",
       "      <td>0</td>\n",
       "      <td>孝感</td>\n",
       "      <td>Xiaogan</td>\n",
       "      <td>22.0</td>\n",
       "      <td>0.0</td>\n",
       "      <td>0.0</td>\n",
       "    </tr>\n",
       "    <tr>\n",
       "      <td>2020-01-24 09:48:39</td>\n",
       "      <td>亚洲</td>\n",
       "      <td>Asia</td>\n",
       "      <td>中国</td>\n",
       "      <td>China</td>\n",
       "      <td>湖北省</td>\n",
       "      <td>Hubei</td>\n",
       "      <td>549</td>\n",
       "      <td>0</td>\n",
       "      <td>0</td>\n",
       "      <td>武汉</td>\n",
       "      <td>Wuhan</td>\n",
       "      <td>495.0</td>\n",
       "      <td>0.0</td>\n",
       "      <td>0.0</td>\n",
       "    </tr>\n",
       "    <tr>\n",
       "      <td>...</td>\n",
       "      <td>...</td>\n",
       "      <td>...</td>\n",
       "      <td>...</td>\n",
       "      <td>...</td>\n",
       "      <td>...</td>\n",
       "      <td>...</td>\n",
       "      <td>...</td>\n",
       "      <td>...</td>\n",
       "      <td>...</td>\n",
       "      <td>...</td>\n",
       "      <td>...</td>\n",
       "      <td>...</td>\n",
       "      <td>...</td>\n",
       "      <td>...</td>\n",
       "    </tr>\n",
       "    <tr>\n",
       "      <td>2020-03-18 22:16:04</td>\n",
       "      <td>亚洲</td>\n",
       "      <td>Asia</td>\n",
       "      <td>中国</td>\n",
       "      <td>China</td>\n",
       "      <td>湖北省</td>\n",
       "      <td>Hubei</td>\n",
       "      <td>67800</td>\n",
       "      <td>56927</td>\n",
       "      <td>3122</td>\n",
       "      <td>咸宁</td>\n",
       "      <td>Xianning</td>\n",
       "      <td>836.0</td>\n",
       "      <td>821.0</td>\n",
       "      <td>15.0</td>\n",
       "    </tr>\n",
       "    <tr>\n",
       "      <td>2020-03-18 22:16:04</td>\n",
       "      <td>亚洲</td>\n",
       "      <td>Asia</td>\n",
       "      <td>中国</td>\n",
       "      <td>China</td>\n",
       "      <td>湖北省</td>\n",
       "      <td>Hubei</td>\n",
       "      <td>67800</td>\n",
       "      <td>56927</td>\n",
       "      <td>3122</td>\n",
       "      <td>恩施州</td>\n",
       "      <td>Enshi Tujia and Miao Autonomous Prefecture</td>\n",
       "      <td>252.0</td>\n",
       "      <td>245.0</td>\n",
       "      <td>7.0</td>\n",
       "    </tr>\n",
       "    <tr>\n",
       "      <td>2020-03-18 22:16:04</td>\n",
       "      <td>亚洲</td>\n",
       "      <td>Asia</td>\n",
       "      <td>中国</td>\n",
       "      <td>China</td>\n",
       "      <td>湖北省</td>\n",
       "      <td>Hubei</td>\n",
       "      <td>67800</td>\n",
       "      <td>56927</td>\n",
       "      <td>3122</td>\n",
       "      <td>神农架林区</td>\n",
       "      <td>Shennongjia</td>\n",
       "      <td>11.0</td>\n",
       "      <td>11.0</td>\n",
       "      <td>0.0</td>\n",
       "    </tr>\n",
       "    <tr>\n",
       "      <td>2020-03-18 22:16:04</td>\n",
       "      <td>亚洲</td>\n",
       "      <td>Asia</td>\n",
       "      <td>中国</td>\n",
       "      <td>China</td>\n",
       "      <td>湖北省</td>\n",
       "      <td>Hubei</td>\n",
       "      <td>67800</td>\n",
       "      <td>56927</td>\n",
       "      <td>3122</td>\n",
       "      <td>黄石</td>\n",
       "      <td>Huangshi</td>\n",
       "      <td>1015.0</td>\n",
       "      <td>963.0</td>\n",
       "      <td>38.0</td>\n",
       "    </tr>\n",
       "    <tr>\n",
       "      <td>2020-03-18 22:16:04</td>\n",
       "      <td>亚洲</td>\n",
       "      <td>Asia</td>\n",
       "      <td>中国</td>\n",
       "      <td>China</td>\n",
       "      <td>湖北省</td>\n",
       "      <td>Hubei</td>\n",
       "      <td>67800</td>\n",
       "      <td>56927</td>\n",
       "      <td>3122</td>\n",
       "      <td>武汉</td>\n",
       "      <td>Wuhan</td>\n",
       "      <td>50005.0</td>\n",
       "      <td>40073.0</td>\n",
       "      <td>2490.0</td>\n",
       "    </tr>\n",
       "  </tbody>\n",
       "</table>\n",
       "<p>6175 rows × 14 columns</p>\n",
       "</div>"
      ],
      "text/plain": [
       "                    continentName continentEnglishName countryName  \\\n",
       "updateTime                                                           \n",
       "2020-01-24 09:47:38            亚洲                 Asia          中国   \n",
       "2020-01-24 09:47:38            亚洲                 Asia          中国   \n",
       "2020-01-24 09:48:39            亚洲                 Asia          中国   \n",
       "2020-01-24 09:48:39            亚洲                 Asia          中国   \n",
       "2020-01-24 09:48:39            亚洲                 Asia          中国   \n",
       "...                           ...                  ...         ...   \n",
       "2020-03-18 22:16:04            亚洲                 Asia          中国   \n",
       "2020-03-18 22:16:04            亚洲                 Asia          中国   \n",
       "2020-03-18 22:16:04            亚洲                 Asia          中国   \n",
       "2020-03-18 22:16:04            亚洲                 Asia          中国   \n",
       "2020-03-18 22:16:04            亚洲                 Asia          中国   \n",
       "\n",
       "                    countryEnglishName provinceName provinceEnglishName  \\\n",
       "updateTime                                                                \n",
       "2020-01-24 09:47:38              China          湖北省               Hubei   \n",
       "2020-01-24 09:47:38              China          湖北省               Hubei   \n",
       "2020-01-24 09:48:39              China          湖北省               Hubei   \n",
       "2020-01-24 09:48:39              China          湖北省               Hubei   \n",
       "2020-01-24 09:48:39              China          湖北省               Hubei   \n",
       "...                                ...          ...                 ...   \n",
       "2020-03-18 22:16:04              China          湖北省               Hubei   \n",
       "2020-03-18 22:16:04              China          湖北省               Hubei   \n",
       "2020-03-18 22:16:04              China          湖北省               Hubei   \n",
       "2020-03-18 22:16:04              China          湖北省               Hubei   \n",
       "2020-03-18 22:16:04              China          湖北省               Hubei   \n",
       "\n",
       "                     province_confirmedCount  province_curedCount  \\\n",
       "updateTime                                                          \n",
       "2020-01-24 09:47:38                      549                    0   \n",
       "2020-01-24 09:47:38                      549                    0   \n",
       "2020-01-24 09:48:39                      549                    0   \n",
       "2020-01-24 09:48:39                      549                    0   \n",
       "2020-01-24 09:48:39                      549                    0   \n",
       "...                                      ...                  ...   \n",
       "2020-03-18 22:16:04                    67800                56927   \n",
       "2020-03-18 22:16:04                    67800                56927   \n",
       "2020-03-18 22:16:04                    67800                56927   \n",
       "2020-03-18 22:16:04                    67800                56927   \n",
       "2020-03-18 22:16:04                    67800                56927   \n",
       "\n",
       "                     province_deadCount cityName  \\\n",
       "updateTime                                         \n",
       "2020-01-24 09:47:38                   0       孝感   \n",
       "2020-01-24 09:47:38                   0       武汉   \n",
       "2020-01-24 09:48:39                   0       黄冈   \n",
       "2020-01-24 09:48:39                   0       孝感   \n",
       "2020-01-24 09:48:39                   0       武汉   \n",
       "...                                 ...      ...   \n",
       "2020-03-18 22:16:04                3122       咸宁   \n",
       "2020-03-18 22:16:04                3122      恩施州   \n",
       "2020-03-18 22:16:04                3122    神农架林区   \n",
       "2020-03-18 22:16:04                3122       黄石   \n",
       "2020-03-18 22:16:04                3122       武汉   \n",
       "\n",
       "                                                cityEnglishName  \\\n",
       "updateTime                                                        \n",
       "2020-01-24 09:47:38                                     Xiaogan   \n",
       "2020-01-24 09:47:38                                       Wuhan   \n",
       "2020-01-24 09:48:39                                   Huanggang   \n",
       "2020-01-24 09:48:39                                     Xiaogan   \n",
       "2020-01-24 09:48:39                                       Wuhan   \n",
       "...                                                         ...   \n",
       "2020-03-18 22:16:04                                    Xianning   \n",
       "2020-03-18 22:16:04  Enshi Tujia and Miao Autonomous Prefecture   \n",
       "2020-03-18 22:16:04                                 Shennongjia   \n",
       "2020-03-18 22:16:04                                    Huangshi   \n",
       "2020-03-18 22:16:04                                       Wuhan   \n",
       "\n",
       "                     city_confirmedCount  city_curedCount  city_deadCount  \n",
       "updateTime                                                                 \n",
       "2020-01-24 09:47:38                 22.0              0.0             0.0  \n",
       "2020-01-24 09:47:38                495.0              0.0             0.0  \n",
       "2020-01-24 09:48:39                 12.0              0.0             0.0  \n",
       "2020-01-24 09:48:39                 22.0              0.0             0.0  \n",
       "2020-01-24 09:48:39                495.0              0.0             0.0  \n",
       "...                                  ...              ...             ...  \n",
       "2020-03-18 22:16:04                836.0            821.0            15.0  \n",
       "2020-03-18 22:16:04                252.0            245.0             7.0  \n",
       "2020-03-18 22:16:04                 11.0             11.0             0.0  \n",
       "2020-03-18 22:16:04               1015.0            963.0            38.0  \n",
       "2020-03-18 22:16:04              50005.0          40073.0          2490.0  \n",
       "\n",
       "[6175 rows x 14 columns]"
      ]
     },
     "execution_count": 15,
     "metadata": {},
     "output_type": "execute_result"
    }
   ],
   "source": [
    "covid19_hubei = covid19_china[covid19_china[\"provinceEnglishName\"] == \"Hubei\"]\n",
    "covid19_hubei = covid19_hubei.sort_values('updateTime')\n",
    "covid19_hubei = covid19_hubei.set_index('updateTime')\n",
    "covid19_hubei"
   ]
  },
  {
   "cell_type": "markdown",
   "metadata": {},
   "source": [
    "Plot the same plot for the province of Hubei."
   ]
  },
  {
   "cell_type": "code",
   "execution_count": 16,
   "metadata": {},
   "outputs": [
    {
     "data": {
      "text/plain": [
       "<matplotlib.axes._subplots.AxesSubplot at 0x1c23eb0b088>"
      ]
     },
     "execution_count": 16,
     "metadata": {},
     "output_type": "execute_result"
    },
    {
     "data": {
      "image/png": "[encoded data removed]",
      "text/plain": [
       "<Figure size 432x288 with 1 Axes>"
      ]
     },
     "metadata": {
      "needs_background": "light"
     },
     "output_type": "display_data"
    },
    {
     "data": {
      "text/plain": [
       "<Figure size 800x1600 with 0 Axes>"
      ]
     },
     "metadata": {},
     "output_type": "display_data"
    }
   ],
   "source": [
    "import seaborn as sns\n",
    "ax = plt.gca()\n",
    "plt.figure(num=None, figsize=(10, 20), dpi=80, facecolor='w', edgecolor='k')\n",
    "covid19_hubei.plot(kind='line',  y='city_confirmedCount', ax=ax)\n",
    "covid19_hubei.plot(kind='line',  y='city_curedCount', ax=ax)\n",
    "covid19_hubei.plot(kind='line',  y='city_deadCount', ax=ax)"
   ]
  },
  {
   "cell_type": "markdown",
   "metadata": {},
   "source": [
    "And now for Shanghai."
   ]
  },
  {
   "cell_type": "code",
   "execution_count": 17,
   "metadata": {},
   "outputs": [
    {
     "data": {
      "text/html": [
       "<div>\n",
       "<style scoped>\n",
       "    .dataframe tbody tr th:only-of-type {\n",
       "        vertical-align: middle;\n",
       "    }\n",
       "\n",
       "    .dataframe tbody tr th {\n",
       "        vertical-align: top;\n",
       "    }\n",
       "\n",
       "    .dataframe thead th {\n",
       "        text-align: right;\n",
       "    }\n",
       "</style>\n",
       "<table border=\"1\" class=\"dataframe\">\n",
       "  <thead>\n",
       "    <tr style=\"text-align: right;\">\n",
       "      <th></th>\n",
       "      <th>continentName</th>\n",
       "      <th>continentEnglishName</th>\n",
       "      <th>countryName</th>\n",
       "      <th>countryEnglishName</th>\n",
       "      <th>provinceName</th>\n",
       "      <th>provinceEnglishName</th>\n",
       "      <th>province_confirmedCount</th>\n",
       "      <th>province_curedCount</th>\n",
       "      <th>province_deadCount</th>\n",
       "      <th>cityName</th>\n",
       "      <th>cityEnglishName</th>\n",
       "      <th>city_confirmedCount</th>\n",
       "      <th>city_curedCount</th>\n",
       "      <th>city_deadCount</th>\n",
       "    </tr>\n",
       "    <tr>\n",
       "      <th>updateTime</th>\n",
       "      <th></th>\n",
       "      <th></th>\n",
       "      <th></th>\n",
       "      <th></th>\n",
       "      <th></th>\n",
       "      <th></th>\n",
       "      <th></th>\n",
       "      <th></th>\n",
       "      <th></th>\n",
       "      <th></th>\n",
       "      <th></th>\n",
       "      <th></th>\n",
       "      <th></th>\n",
       "      <th></th>\n",
       "    </tr>\n",
       "  </thead>\n",
       "  <tbody>\n",
       "    <tr>\n",
       "      <td>2020-01-27 10:40:52</td>\n",
       "      <td>亚洲</td>\n",
       "      <td>Asia</td>\n",
       "      <td>中国</td>\n",
       "      <td>China</td>\n",
       "      <td>上海市</td>\n",
       "      <td>Shanghai</td>\n",
       "      <td>53</td>\n",
       "      <td>1</td>\n",
       "      <td>1</td>\n",
       "      <td>静安区</td>\n",
       "      <td>Jing'an District</td>\n",
       "      <td>5.0</td>\n",
       "      <td>0.0</td>\n",
       "      <td>0.0</td>\n",
       "    </tr>\n",
       "    <tr>\n",
       "      <td>2020-01-27 10:40:52</td>\n",
       "      <td>亚洲</td>\n",
       "      <td>Asia</td>\n",
       "      <td>中国</td>\n",
       "      <td>China</td>\n",
       "      <td>上海市</td>\n",
       "      <td>Shanghai</td>\n",
       "      <td>53</td>\n",
       "      <td>1</td>\n",
       "      <td>1</td>\n",
       "      <td>长宁区</td>\n",
       "      <td>Changning District</td>\n",
       "      <td>5.0</td>\n",
       "      <td>0.0</td>\n",
       "      <td>0.0</td>\n",
       "    </tr>\n",
       "    <tr>\n",
       "      <td>2020-01-27 10:40:52</td>\n",
       "      <td>亚洲</td>\n",
       "      <td>Asia</td>\n",
       "      <td>中国</td>\n",
       "      <td>China</td>\n",
       "      <td>上海市</td>\n",
       "      <td>Shanghai</td>\n",
       "      <td>53</td>\n",
       "      <td>1</td>\n",
       "      <td>1</td>\n",
       "      <td>浦东新区</td>\n",
       "      <td>Pudong District</td>\n",
       "      <td>7.0</td>\n",
       "      <td>0.0</td>\n",
       "      <td>0.0</td>\n",
       "    </tr>\n",
       "    <tr>\n",
       "      <td>2020-01-27 10:41:52</td>\n",
       "      <td>亚洲</td>\n",
       "      <td>Asia</td>\n",
       "      <td>中国</td>\n",
       "      <td>China</td>\n",
       "      <td>上海市</td>\n",
       "      <td>Shanghai</td>\n",
       "      <td>53</td>\n",
       "      <td>1</td>\n",
       "      <td>1</td>\n",
       "      <td>徐汇区</td>\n",
       "      <td>Xuhui District</td>\n",
       "      <td>3.0</td>\n",
       "      <td>0.0</td>\n",
       "      <td>0.0</td>\n",
       "    </tr>\n",
       "    <tr>\n",
       "      <td>2020-01-27 10:41:52</td>\n",
       "      <td>亚洲</td>\n",
       "      <td>Asia</td>\n",
       "      <td>中国</td>\n",
       "      <td>China</td>\n",
       "      <td>上海市</td>\n",
       "      <td>Shanghai</td>\n",
       "      <td>53</td>\n",
       "      <td>1</td>\n",
       "      <td>1</td>\n",
       "      <td>静安区</td>\n",
       "      <td>Jing'an District</td>\n",
       "      <td>5.0</td>\n",
       "      <td>0.0</td>\n",
       "      <td>0.0</td>\n",
       "    </tr>\n",
       "    <tr>\n",
       "      <td>...</td>\n",
       "      <td>...</td>\n",
       "      <td>...</td>\n",
       "      <td>...</td>\n",
       "      <td>...</td>\n",
       "      <td>...</td>\n",
       "      <td>...</td>\n",
       "      <td>...</td>\n",
       "      <td>...</td>\n",
       "      <td>...</td>\n",
       "      <td>...</td>\n",
       "      <td>...</td>\n",
       "      <td>...</td>\n",
       "      <td>...</td>\n",
       "      <td>...</td>\n",
       "    </tr>\n",
       "    <tr>\n",
       "      <td>2020-03-18 13:47:49</td>\n",
       "      <td>亚洲</td>\n",
       "      <td>Asia</td>\n",
       "      <td>中国</td>\n",
       "      <td>China</td>\n",
       "      <td>上海市</td>\n",
       "      <td>Shanghai</td>\n",
       "      <td>361</td>\n",
       "      <td>326</td>\n",
       "      <td>3</td>\n",
       "      <td>金山区</td>\n",
       "      <td>Jinshan District</td>\n",
       "      <td>4.0</td>\n",
       "      <td>4.0</td>\n",
       "      <td>0.0</td>\n",
       "    </tr>\n",
       "    <tr>\n",
       "      <td>2020-03-18 13:47:49</td>\n",
       "      <td>亚洲</td>\n",
       "      <td>Asia</td>\n",
       "      <td>中国</td>\n",
       "      <td>China</td>\n",
       "      <td>上海市</td>\n",
       "      <td>Shanghai</td>\n",
       "      <td>361</td>\n",
       "      <td>326</td>\n",
       "      <td>3</td>\n",
       "      <td>崇明区</td>\n",
       "      <td>Chongming District</td>\n",
       "      <td>4.0</td>\n",
       "      <td>4.0</td>\n",
       "      <td>0.0</td>\n",
       "    </tr>\n",
       "    <tr>\n",
       "      <td>2020-03-18 13:47:49</td>\n",
       "      <td>亚洲</td>\n",
       "      <td>Asia</td>\n",
       "      <td>中国</td>\n",
       "      <td>China</td>\n",
       "      <td>上海市</td>\n",
       "      <td>Shanghai</td>\n",
       "      <td>361</td>\n",
       "      <td>326</td>\n",
       "      <td>3</td>\n",
       "      <td>待明确地区</td>\n",
       "      <td>Area not defined</td>\n",
       "      <td>0.0</td>\n",
       "      <td>0.0</td>\n",
       "      <td>2.0</td>\n",
       "    </tr>\n",
       "    <tr>\n",
       "      <td>2020-03-18 13:47:49</td>\n",
       "      <td>亚洲</td>\n",
       "      <td>Asia</td>\n",
       "      <td>中国</td>\n",
       "      <td>China</td>\n",
       "      <td>上海市</td>\n",
       "      <td>Shanghai</td>\n",
       "      <td>361</td>\n",
       "      <td>326</td>\n",
       "      <td>3</td>\n",
       "      <td>长宁区</td>\n",
       "      <td>Changning District</td>\n",
       "      <td>13.0</td>\n",
       "      <td>13.0</td>\n",
       "      <td>0.0</td>\n",
       "    </tr>\n",
       "    <tr>\n",
       "      <td>2020-03-18 13:47:49</td>\n",
       "      <td>亚洲</td>\n",
       "      <td>Asia</td>\n",
       "      <td>中国</td>\n",
       "      <td>China</td>\n",
       "      <td>上海市</td>\n",
       "      <td>Shanghai</td>\n",
       "      <td>361</td>\n",
       "      <td>326</td>\n",
       "      <td>3</td>\n",
       "      <td>外地来沪人员</td>\n",
       "      <td>People from other cities</td>\n",
       "      <td>111.0</td>\n",
       "      <td>106.0</td>\n",
       "      <td>1.0</td>\n",
       "    </tr>\n",
       "  </tbody>\n",
       "</table>\n",
       "<p>2734 rows × 14 columns</p>\n",
       "</div>"
      ],
      "text/plain": [
       "                    continentName continentEnglishName countryName  \\\n",
       "updateTime                                                           \n",
       "2020-01-27 10:40:52            亚洲                 Asia          中国   \n",
       "2020-01-27 10:40:52            亚洲                 Asia          中国   \n",
       "2020-01-27 10:40:52            亚洲                 Asia          中国   \n",
       "2020-01-27 10:41:52            亚洲                 Asia          中国   \n",
       "2020-01-27 10:41:52            亚洲                 Asia          中国   \n",
       "...                           ...                  ...         ...   \n",
       "2020-03-18 13:47:49            亚洲                 Asia          中国   \n",
       "2020-03-18 13:47:49            亚洲                 Asia          中国   \n",
       "2020-03-18 13:47:49            亚洲                 Asia          中国   \n",
       "2020-03-18 13:47:49            亚洲                 Asia          中国   \n",
       "2020-03-18 13:47:49            亚洲                 Asia          中国   \n",
       "\n",
       "                    countryEnglishName provinceName provinceEnglishName  \\\n",
       "updateTime                                                                \n",
       "2020-01-27 10:40:52              China          上海市            Shanghai   \n",
       "2020-01-27 10:40:52              China          上海市            Shanghai   \n",
       "2020-01-27 10:40:52              China          上海市            Shanghai   \n",
       "2020-01-27 10:41:52              China          上海市            Shanghai   \n",
       "2020-01-27 10:41:52              China          上海市            Shanghai   \n",
       "...                                ...          ...                 ...   \n",
       "2020-03-18 13:47:49              China          上海市            Shanghai   \n",
       "2020-03-18 13:47:49              China          上海市            Shanghai   \n",
       "2020-03-18 13:47:49              China          上海市            Shanghai   \n",
       "2020-03-18 13:47:49              China          上海市            Shanghai   \n",
       "2020-03-18 13:47:49              China          上海市            Shanghai   \n",
       "\n",
       "                     province_confirmedCount  province_curedCount  \\\n",
       "updateTime                                                          \n",
       "2020-01-27 10:40:52                       53                    1   \n",
       "2020-01-27 10:40:52                       53                    1   \n",
       "2020-01-27 10:40:52                       53                    1   \n",
       "2020-01-27 10:41:52                       53                    1   \n",
       "2020-01-27 10:41:52                       53                    1   \n",
       "...                                      ...                  ...   \n",
       "2020-03-18 13:47:49                      361                  326   \n",
       "2020-03-18 13:47:49                      361                  326   \n",
       "2020-03-18 13:47:49                      361                  326   \n",
       "2020-03-18 13:47:49                      361                  326   \n",
       "2020-03-18 13:47:49                      361                  326   \n",
       "\n",
       "                     province_deadCount cityName           cityEnglishName  \\\n",
       "updateTime                                                                   \n",
       "2020-01-27 10:40:52                   1      静安区          Jing'an District   \n",
       "2020-01-27 10:40:52                   1      长宁区        Changning District   \n",
       "2020-01-27 10:40:52                   1     浦东新区           Pudong District   \n",
       "2020-01-27 10:41:52                   1      徐汇区            Xuhui District   \n",
       "2020-01-27 10:41:52                   1      静安区          Jing'an District   \n",
       "...                                 ...      ...                       ...   \n",
       "2020-03-18 13:47:49                   3      金山区          Jinshan District   \n",
       "2020-03-18 13:47:49                   3      崇明区        Chongming District   \n",
       "2020-03-18 13:47:49                   3    待明确地区          Area not defined   \n",
       "2020-03-18 13:47:49                   3      长宁区        Changning District   \n",
       "2020-03-18 13:47:49                   3   外地来沪人员  People from other cities   \n",
       "\n",
       "                     city_confirmedCount  city_curedCount  city_deadCount  \n",
       "updateTime                                                                 \n",
       "2020-01-27 10:40:52                  5.0              0.0             0.0  \n",
       "2020-01-27 10:40:52                  5.0              0.0             0.0  \n",
       "2020-01-27 10:40:52                  7.0              0.0             0.0  \n",
       "2020-01-27 10:41:52                  3.0              0.0             0.0  \n",
       "2020-01-27 10:41:52                  5.0              0.0             0.0  \n",
       "...                                  ...              ...             ...  \n",
       "2020-03-18 13:47:49                  4.0              4.0             0.0  \n",
       "2020-03-18 13:47:49                  4.0              4.0             0.0  \n",
       "2020-03-18 13:47:49                  0.0              0.0             2.0  \n",
       "2020-03-18 13:47:49                 13.0             13.0             0.0  \n",
       "2020-03-18 13:47:49                111.0            106.0             1.0  \n",
       "\n",
       "[2734 rows x 14 columns]"
      ]
     },
     "execution_count": 17,
     "metadata": {},
     "output_type": "execute_result"
    }
   ],
   "source": [
    "covid19_shanghai = covid19_china[covid19_china[\"provinceEnglishName\"] == \"Shanghai\"]\n",
    "covid19_shanghai = covid19_shanghai.sort_values('updateTime')\n",
    "covid19_shanghai = covid19_shanghai.set_index('updateTime')\n",
    "covid19_shanghai"
   ]
  },
  {
   "cell_type": "code",
   "execution_count": 18,
   "metadata": {},
   "outputs": [
    {
     "data": {
      "text/plain": [
       "<matplotlib.axes._subplots.AxesSubplot at 0x1c23f094408>"
      ]
     },
     "execution_count": 18,
     "metadata": {},
     "output_type": "execute_result"
    },
    {
     "data": {
      "image/png": "[encoded data removed]",
      "text/plain": [
       "<Figure size 432x288 with 1 Axes>"
      ]
     },
     "metadata": {
      "needs_background": "light"
     },
     "output_type": "display_data"
    },
    {
     "data": {
      "text/plain": [
       "<Figure size 800x1600 with 0 Axes>"
      ]
     },
     "metadata": {},
     "output_type": "display_data"
    }
   ],
   "source": [
    "import seaborn as sns\n",
    "ax = plt.gca()\n",
    "plt.figure(num=None, figsize=(10, 20), dpi=80, facecolor='w', edgecolor='k')\n",
    "covid19_shanghai.plot(kind='line',  y='city_confirmedCount', ax=ax)\n",
    "covid19_shanghai.plot(kind='line',  y='city_curedCount', ax=ax)\n",
    "covid19_shanghai.plot(kind='line',  y='city_deadCount', ax=ax)"
   ]
  },
  {
   "cell_type": "markdown",
   "metadata": {},
   "source": [
    "And now for Beijing."
   ]
  },
  {
   "cell_type": "code",
   "execution_count": 19,
   "metadata": {},
   "outputs": [
    {
     "data": {
      "text/html": [
       "<div>\n",
       "<style scoped>\n",
       "    .dataframe tbody tr th:only-of-type {\n",
       "        vertical-align: middle;\n",
       "    }\n",
       "\n",
       "    .dataframe tbody tr th {\n",
       "        vertical-align: top;\n",
       "    }\n",
       "\n",
       "    .dataframe thead th {\n",
       "        text-align: right;\n",
       "    }\n",
       "</style>\n",
       "<table border=\"1\" class=\"dataframe\">\n",
       "  <thead>\n",
       "    <tr style=\"text-align: right;\">\n",
       "      <th></th>\n",
       "      <th>continentName</th>\n",
       "      <th>continentEnglishName</th>\n",
       "      <th>countryName</th>\n",
       "      <th>countryEnglishName</th>\n",
       "      <th>provinceName</th>\n",
       "      <th>provinceEnglishName</th>\n",
       "      <th>province_confirmedCount</th>\n",
       "      <th>province_curedCount</th>\n",
       "      <th>province_deadCount</th>\n",
       "      <th>cityName</th>\n",
       "      <th>cityEnglishName</th>\n",
       "      <th>city_confirmedCount</th>\n",
       "      <th>city_curedCount</th>\n",
       "      <th>city_deadCount</th>\n",
       "    </tr>\n",
       "    <tr>\n",
       "      <th>updateTime</th>\n",
       "      <th></th>\n",
       "      <th></th>\n",
       "      <th></th>\n",
       "      <th></th>\n",
       "      <th></th>\n",
       "      <th></th>\n",
       "      <th></th>\n",
       "      <th></th>\n",
       "      <th></th>\n",
       "      <th></th>\n",
       "      <th></th>\n",
       "      <th></th>\n",
       "      <th></th>\n",
       "      <th></th>\n",
       "    </tr>\n",
       "  </thead>\n",
       "  <tbody>\n",
       "    <tr>\n",
       "      <td>2020-01-24 16:06:14</td>\n",
       "      <td>亚洲</td>\n",
       "      <td>Asia</td>\n",
       "      <td>中国</td>\n",
       "      <td>China</td>\n",
       "      <td>北京市</td>\n",
       "      <td>Beijing</td>\n",
       "      <td>26</td>\n",
       "      <td>1</td>\n",
       "      <td>0</td>\n",
       "      <td>外地来京人员</td>\n",
       "      <td>People from other cities</td>\n",
       "      <td>9.0</td>\n",
       "      <td>0.0</td>\n",
       "      <td>0.0</td>\n",
       "    </tr>\n",
       "    <tr>\n",
       "      <td>2020-01-24 16:07:14</td>\n",
       "      <td>亚洲</td>\n",
       "      <td>Asia</td>\n",
       "      <td>中国</td>\n",
       "      <td>China</td>\n",
       "      <td>北京市</td>\n",
       "      <td>Beijing</td>\n",
       "      <td>29</td>\n",
       "      <td>1</td>\n",
       "      <td>0</td>\n",
       "      <td>外地来京人员</td>\n",
       "      <td>People from other cities</td>\n",
       "      <td>9.0</td>\n",
       "      <td>0.0</td>\n",
       "      <td>0.0</td>\n",
       "    </tr>\n",
       "    <tr>\n",
       "      <td>2020-01-24 19:45:37</td>\n",
       "      <td>亚洲</td>\n",
       "      <td>Asia</td>\n",
       "      <td>中国</td>\n",
       "      <td>China</td>\n",
       "      <td>北京市</td>\n",
       "      <td>Beijing</td>\n",
       "      <td>29</td>\n",
       "      <td>1</td>\n",
       "      <td>0</td>\n",
       "      <td>外地来京人员</td>\n",
       "      <td>People from other cities</td>\n",
       "      <td>9.0</td>\n",
       "      <td>0.0</td>\n",
       "      <td>0.0</td>\n",
       "    </tr>\n",
       "    <tr>\n",
       "      <td>2020-01-24 19:46:37</td>\n",
       "      <td>亚洲</td>\n",
       "      <td>Asia</td>\n",
       "      <td>中国</td>\n",
       "      <td>China</td>\n",
       "      <td>北京市</td>\n",
       "      <td>Beijing</td>\n",
       "      <td>29</td>\n",
       "      <td>1</td>\n",
       "      <td>0</td>\n",
       "      <td>外地来京人员</td>\n",
       "      <td>People from other cities</td>\n",
       "      <td>10.0</td>\n",
       "      <td>0.0</td>\n",
       "      <td>0.0</td>\n",
       "    </tr>\n",
       "    <tr>\n",
       "      <td>2020-01-24 19:49:39</td>\n",
       "      <td>亚洲</td>\n",
       "      <td>Asia</td>\n",
       "      <td>中国</td>\n",
       "      <td>China</td>\n",
       "      <td>北京市</td>\n",
       "      <td>Beijing</td>\n",
       "      <td>34</td>\n",
       "      <td>1</td>\n",
       "      <td>0</td>\n",
       "      <td>外地来京人员</td>\n",
       "      <td>People from other cities</td>\n",
       "      <td>10.0</td>\n",
       "      <td>0.0</td>\n",
       "      <td>0.0</td>\n",
       "    </tr>\n",
       "    <tr>\n",
       "      <td>...</td>\n",
       "      <td>...</td>\n",
       "      <td>...</td>\n",
       "      <td>...</td>\n",
       "      <td>...</td>\n",
       "      <td>...</td>\n",
       "      <td>...</td>\n",
       "      <td>...</td>\n",
       "      <td>...</td>\n",
       "      <td>...</td>\n",
       "      <td>...</td>\n",
       "      <td>...</td>\n",
       "      <td>...</td>\n",
       "      <td>...</td>\n",
       "      <td>...</td>\n",
       "    </tr>\n",
       "    <tr>\n",
       "      <td>2020-03-18 13:16:12</td>\n",
       "      <td>亚洲</td>\n",
       "      <td>Asia</td>\n",
       "      <td>中国</td>\n",
       "      <td>China</td>\n",
       "      <td>北京市</td>\n",
       "      <td>Beijing</td>\n",
       "      <td>469</td>\n",
       "      <td>378</td>\n",
       "      <td>8</td>\n",
       "      <td>门头沟区</td>\n",
       "      <td>Mentougou District</td>\n",
       "      <td>3.0</td>\n",
       "      <td>2.0</td>\n",
       "      <td>0.0</td>\n",
       "    </tr>\n",
       "    <tr>\n",
       "      <td>2020-03-18 13:16:12</td>\n",
       "      <td>亚洲</td>\n",
       "      <td>Asia</td>\n",
       "      <td>中国</td>\n",
       "      <td>China</td>\n",
       "      <td>北京市</td>\n",
       "      <td>Beijing</td>\n",
       "      <td>469</td>\n",
       "      <td>378</td>\n",
       "      <td>8</td>\n",
       "      <td>延庆区</td>\n",
       "      <td>Yanqing District</td>\n",
       "      <td>1.0</td>\n",
       "      <td>0.0</td>\n",
       "      <td>0.0</td>\n",
       "    </tr>\n",
       "    <tr>\n",
       "      <td>2020-03-18 13:16:12</td>\n",
       "      <td>亚洲</td>\n",
       "      <td>Asia</td>\n",
       "      <td>中国</td>\n",
       "      <td>China</td>\n",
       "      <td>北京市</td>\n",
       "      <td>Beijing</td>\n",
       "      <td>469</td>\n",
       "      <td>378</td>\n",
       "      <td>8</td>\n",
       "      <td>待明确地区</td>\n",
       "      <td>Area not defined</td>\n",
       "      <td>0.0</td>\n",
       "      <td>334.0</td>\n",
       "      <td>8.0</td>\n",
       "    </tr>\n",
       "    <tr>\n",
       "      <td>2020-03-18 13:16:12</td>\n",
       "      <td>亚洲</td>\n",
       "      <td>Asia</td>\n",
       "      <td>中国</td>\n",
       "      <td>China</td>\n",
       "      <td>北京市</td>\n",
       "      <td>Beijing</td>\n",
       "      <td>469</td>\n",
       "      <td>378</td>\n",
       "      <td>8</td>\n",
       "      <td>房山区</td>\n",
       "      <td>Fangshan District</td>\n",
       "      <td>16.0</td>\n",
       "      <td>3.0</td>\n",
       "      <td>0.0</td>\n",
       "    </tr>\n",
       "    <tr>\n",
       "      <td>2020-03-18 13:16:12</td>\n",
       "      <td>亚洲</td>\n",
       "      <td>Asia</td>\n",
       "      <td>中国</td>\n",
       "      <td>China</td>\n",
       "      <td>北京市</td>\n",
       "      <td>Beijing</td>\n",
       "      <td>469</td>\n",
       "      <td>378</td>\n",
       "      <td>8</td>\n",
       "      <td>朝阳区</td>\n",
       "      <td>Chaoyang District</td>\n",
       "      <td>72.0</td>\n",
       "      <td>0.0</td>\n",
       "      <td>0.0</td>\n",
       "    </tr>\n",
       "  </tbody>\n",
       "</table>\n",
       "<p>1634 rows × 14 columns</p>\n",
       "</div>"
      ],
      "text/plain": [
       "                    continentName continentEnglishName countryName  \\\n",
       "updateTime                                                           \n",
       "2020-01-24 16:06:14            亚洲                 Asia          中国   \n",
       "2020-01-24 16:07:14            亚洲                 Asia          中国   \n",
       "2020-01-24 19:45:37            亚洲                 Asia          中国   \n",
       "2020-01-24 19:46:37            亚洲                 Asia          中国   \n",
       "2020-01-24 19:49:39            亚洲                 Asia          中国   \n",
       "...                           ...                  ...         ...   \n",
       "2020-03-18 13:16:12            亚洲                 Asia          中国   \n",
       "2020-03-18 13:16:12            亚洲                 Asia          中国   \n",
       "2020-03-18 13:16:12            亚洲                 Asia          中国   \n",
       "2020-03-18 13:16:12            亚洲                 Asia          中国   \n",
       "2020-03-18 13:16:12            亚洲                 Asia          中国   \n",
       "\n",
       "                    countryEnglishName provinceName provinceEnglishName  \\\n",
       "updateTime                                                                \n",
       "2020-01-24 16:06:14              China          北京市             Beijing   \n",
       "2020-01-24 16:07:14              China          北京市             Beijing   \n",
       "2020-01-24 19:45:37              China          北京市             Beijing   \n",
       "2020-01-24 19:46:37              China          北京市             Beijing   \n",
       "2020-01-24 19:49:39              China          北京市             Beijing   \n",
       "...                                ...          ...                 ...   \n",
       "2020-03-18 13:16:12              China          北京市             Beijing   \n",
       "2020-03-18 13:16:12              China          北京市             Beijing   \n",
       "2020-03-18 13:16:12              China          北京市             Beijing   \n",
       "2020-03-18 13:16:12              China          北京市             Beijing   \n",
       "2020-03-18 13:16:12              China          北京市             Beijing   \n",
       "\n",
       "                     province_confirmedCount  province_curedCount  \\\n",
       "updateTime                                                          \n",
       "2020-01-24 16:06:14                       26                    1   \n",
       "2020-01-24 16:07:14                       29                    1   \n",
       "2020-01-24 19:45:37                       29                    1   \n",
       "2020-01-24 19:46:37                       29                    1   \n",
       "2020-01-24 19:49:39                       34                    1   \n",
       "...                                      ...                  ...   \n",
       "2020-03-18 13:16:12                      469                  378   \n",
       "2020-03-18 13:16:12                      469                  378   \n",
       "2020-03-18 13:16:12                      469                  378   \n",
       "2020-03-18 13:16:12                      469                  378   \n",
       "2020-03-18 13:16:12                      469                  378   \n",
       "\n",
       "                     province_deadCount cityName           cityEnglishName  \\\n",
       "updateTime                                                                   \n",
       "2020-01-24 16:06:14                   0   外地来京人员  People from other cities   \n",
       "2020-01-24 16:07:14                   0   外地来京人员  People from other cities   \n",
       "2020-01-24 19:45:37                   0   外地来京人员  People from other cities   \n",
       "2020-01-24 19:46:37                   0   外地来京人员  People from other cities   \n",
       "2020-01-24 19:49:39                   0   外地来京人员  People from other cities   \n",
       "...                                 ...      ...                       ...   \n",
       "2020-03-18 13:16:12                   8     门头沟区        Mentougou District   \n",
       "2020-03-18 13:16:12                   8      延庆区          Yanqing District   \n",
       "2020-03-18 13:16:12                   8    待明确地区          Area not defined   \n",
       "2020-03-18 13:16:12                   8      房山区         Fangshan District   \n",
       "2020-03-18 13:16:12                   8      朝阳区         Chaoyang District   \n",
       "\n",
       "                     city_confirmedCount  city_curedCount  city_deadCount  \n",
       "updateTime                                                                 \n",
       "2020-01-24 16:06:14                  9.0              0.0             0.0  \n",
       "2020-01-24 16:07:14                  9.0              0.0             0.0  \n",
       "2020-01-24 19:45:37                  9.0              0.0             0.0  \n",
       "2020-01-24 19:46:37                 10.0              0.0             0.0  \n",
       "2020-01-24 19:49:39                 10.0              0.0             0.0  \n",
       "...                                  ...              ...             ...  \n",
       "2020-03-18 13:16:12                  3.0              2.0             0.0  \n",
       "2020-03-18 13:16:12                  1.0              0.0             0.0  \n",
       "2020-03-18 13:16:12                  0.0            334.0             8.0  \n",
       "2020-03-18 13:16:12                 16.0              3.0             0.0  \n",
       "2020-03-18 13:16:12                 72.0              0.0             0.0  \n",
       "\n",
       "[1634 rows x 14 columns]"
      ]
     },
     "execution_count": 19,
     "metadata": {},
     "output_type": "execute_result"
    },
    {
     "data": {
      "text/plain": [
       "<Figure size 432x288 with 0 Axes>"
      ]
     },
     "metadata": {},
     "output_type": "display_data"
    },
    {
     "data": {
      "text/plain": [
       "<Figure size 1440x720 with 0 Axes>"
      ]
     },
     "metadata": {},
     "output_type": "display_data"
    }
   ],
   "source": [
    "fig = plt.figure()\n",
    "plt.figure(figsize=(20,10))\n",
    "covid19_beijing = covid19_china[covid19_china[\"provinceEnglishName\"] == \"Beijing\"]\n",
    "covid19_beijing = covid19_beijing.sort_values('updateTime')\n",
    "covid19_beijing = covid19_beijing.set_index('updateTime')\n",
    "covid19_beijing"
   ]
  },
  {
   "cell_type": "code",
   "execution_count": 20,
   "metadata": {},
   "outputs": [
    {
     "data": {
      "text/plain": [
       "<matplotlib.axes._subplots.AxesSubplot at 0x1c23f12a548>"
      ]
     },
     "execution_count": 20,
     "metadata": {},
     "output_type": "execute_result"
    },
    {
     "data": {
      "image/png": "[encoded data removed]",
      "text/plain": [
       "<Figure size 432x288 with 1 Axes>"
      ]
     },
     "metadata": {
      "needs_background": "light"
     },
     "output_type": "display_data"
    },
    {
     "data": {
      "text/plain": [
       "<Figure size 800x1600 with 0 Axes>"
      ]
     },
     "metadata": {},
     "output_type": "display_data"
    }
   ],
   "source": [
    "import seaborn as sns\n",
    "ax = plt.gca()\n",
    "plt.figure(num=None, figsize=(10, 20), dpi=80, facecolor='w', edgecolor='k')\n",
    "covid19_beijing.plot(kind='line',  y='city_confirmedCount', ax=ax)\n",
    "covid19_beijing.plot(kind='line',  y='city_curedCount', ax=ax)\n",
    "covid19_beijing.plot(kind='line',  y='city_deadCount', ax=ax)"
   ]
  },
  {
   "cell_type": "markdown",
   "metadata": {},
   "source": [
    "Let's come up with a possible infection model.."
   ]
  },
  {
   "cell_type": "markdown",
   "metadata": {},
   "source": [
    "# A possible model of infection\n",
    "\n",
    "This requires version 3.8 of `PyMC3'!"
   ]
  },
  {
   "cell_type": "code",
   "execution_count": 21,
   "metadata": {},
   "outputs": [
    {
     "data": {
      "text/plain": [
       "'3.8'"
      ]
     },
     "execution_count": 21,
     "metadata": {},
     "output_type": "execute_result"
    }
   ],
   "source": [
    "import pymc3 as pm\n",
    "pm.__version__"
   ]
  },
  {
   "cell_type": "code",
   "execution_count": 22,
   "metadata": {},
   "outputs": [],
   "source": [
    "%matplotlib inline\n",
    "import numpy as np\n",
    "import matplotlib.pyplot as plt\n",
    "\n",
    "plt.style.use('seaborn-darkgrid')"
   ]
  },
  {
   "cell_type": "markdown",
   "metadata": {},
   "source": [
    "## Acquired immunity controls the infection\n",
    "\n",
    "The Susceptible-Infected-Recovered model of infection describes time dynamics of an \n",
    "[infectious disease](https://en.wikipedia.org/wiki/Compartmental_models_in_epidemiology) spreading through a homogenous closed population (no births or deaths). The population is divided into three categories: **Susceptible** `S`, **Infected** `I`, or **Recovered/Dead** `R`. We can further refine our model by having a different category `D` for dead, but let's keep it simple for now and include dead people as recovered. When people die, if properly buried, they cannot infect anymore and so they are equivalent to people that have recovered and are immune to the infection.\n",
    "\n",
    "Susceptible individuals are those that have not acquired immunity yet and are susceptible to becoming infected.\n",
    "\n",
    "Infected individuals have been infected with the disease.\n",
    "\n",
    "Recovered individuals are cured and not susceptible anymore to the disease.\n",
    "\n",
    ">**NOTE**: In China, some people have been described as cured and released from hospitals and yet they test positive again for Covid19 later on. This is actually impossible because if you recover, you *have to be immune* to the disease, and is most likley assocaited with false positives and false negatives (patients where either impoperly labeled as cured, or improperly tested as infected). It is also possible that we are dealing with multiple Covid19 strains, in which case it is possible to become infected with another strain after being cured from one. It may also be possible that the virus mutates so fast that it essentially becomes a different strain in a few days and can reinfect an immune individual. God help us all if that is the case.\n",
    "\n",
    "[Differential equations](https://en.wikipedia.org/wiki/Ordinary_differential_equation) are a mathematical framework for modelling temporal dynamics of a system. The [differential equations for the SIR model of infection](https://www.maa.org/press/periodicals/loci/joma/the-sir-model-for-spread-of-disease-the-differential-equation-model) are:\n",
    "\n",
    "$$\\dfrac{dS}{dt} = - \\beta SI \\quad S(0) = S_0$$\n",
    "\n",
    "$$\\dfrac{dI}{dt} = \\beta SI - \\gamma I \\quad I(0) = I_0$$\n",
    "\n",
    "$$\\dfrac{dR}{dt} = \\gamma I \\quad R(0) = R_0$$\n",
    "\n",
    "With the constraint that: \n",
    "\n",
    "$$S(t) + I(t) + R(t) = 1 \\;\\;, \\forall t$$\n",
    "\n",
    "Other models are available for modeling infectious diseases, such as the [IBM](https://arxiv.org/ftp/arxiv/papers/1902/1902.02784.pdf) model.\n",
    "\n",
    "If we know R(t) and I(t) then we can determine S(t): $S(t) = 1 - I(t) - R(t)$, so we can work only with the two unknowns: R(t) and I(t). We prefer to work with these because that is what the China Covid19 dataset gives us!\n",
    "\n",
    "So we write:\n",
    "\n",
    "$$\\dfrac{dI}{dt} = \\beta (1 - I - R) I - \\gamma I \\quad I(0) = I_0$$\n",
    "\n",
    "$$\\dfrac{dR}{dt} = \\gamma I \\quad R(0) = R_0$$\n",
    "\n",
    "Simplifying:\n",
    "\n",
    "$$\\dfrac{dI}{dt} = \\beta (1 - I - R -\\gamma/\\beta) I  \\quad I(0) = I_0$$\n",
    "\n",
    "$$\\dfrac{dR}{dt} = \\gamma I \\quad R(0) = R_0$$\n",
    "\n",
    "We have two equations in two unknowns, so we're good mathematicaly speaking. What are the parameters?\n",
    "\n",
    "$β$ is the rate of infection per susceptible and per infective individual: $\\beta$ is an average infected to non-infected individual contact (e.g. 4 individuals) and hinges on the underlying society. Arguably, it is higher in China where the population is denser. But it also high in very social Mediterranean countries like Italy and Spain. $\\gamma$ is the rate of recovery: It can be interpreted as an average period of infectiousness (e.g. 3 to 5 days for the common flu). For Covid19, experts are astonished by how long an individual can infect others and say that it can be up to 30 days! \n",
    "\n",
    ">For an example, in the Hong Kong flu in New York City in the late 1960's, hardly anyone was immune at the beginning of the epidemic, so almost everyone was susceptible. [This](https://www.maa.org/press/periodicals/loci/joma/the-sir-model-for-spread-of-disease-the-differential-equation-model) paper gives an estimate for the parameters. Assuming a trace level of infection in the population, say, 10 people, population variables are S(0) = 7,900,000, I(0) = 10, R(0) = 0. In terms of scaled variables, these initial conditions are s(0) = 1, i(0) = 1.27 x 10-6, r(0) = 0. We don't know values for the parameters $\\beta$ and $\\gamma$ yet, but they can be estimated and then adjusted as necessary to fit the excess death data. The average period of infectiousness is estimated at three days, so that would suggest  $\\gamma = 1/3$.  *Guessing* that each infected individual would make a possibly infecting contact with another individual every two days, then $\\beta$ would be $1/2$. So $\\beta/\\gamma = 3/2 > 1$.\n",
    "\n",
    "The quantity $β/γ$ is called [R-Nought](https://www.ncbi.nlm.nih.gov/pmc/articles/PMC1181873/) ($R_0$). Its interpretation is that if we were to drop a *single* infected person into a population of suceptible individuals, we would expect $R_0$ new infections. If $R_0>1$, then an epidemic will take place. If $R_0≤1$ then there will be no epidemic.\n",
    "\n",
    ">When $R_0<1$, each person who contracts the disease will infect fewer than one person before dying or recovering, so the outbreak will fizzle ($dI/dt<0$). When $R_0>1$, each person who gets the disease will infect more than one person, so the epidemic will spread ($dI/dt>0$). $R_0$ is the most important quantity in epidemiology.\n",
    "\n",
    "Let's model our SIR equations using a python function. `y` is our unknown, it's 2D: $y[0] = I$ and $y[1] = R$. . The parameters `p` are 2D: $p[0] = \\beta$ and $p[1] = \\gamma$. "
   ]
  },
  {
   "cell_type": "code",
   "execution_count": 23,
   "metadata": {},
   "outputs": [],
   "source": [
    "def SIR(y, t, p):\n",
    "    di = p[0] * (1. - y[0] - y[1] - p[1]/p[0]) * y[0]\n",
    "    dr = p[1] * y[0]\n",
    "    return [di, dr]"
   ]
  },
  {
   "cell_type": "markdown",
   "metadata": {},
   "source": [
    "Write down the python function that will yield the suceptible population, given the infected and recovered population:"
   ]
  },
  {
   "cell_type": "code",
   "execution_count": 24,
   "metadata": {},
   "outputs": [],
   "source": [
    "def susceptible(i, r):\n",
    "    s=[]\n",
    "    for x in range (len(i)):\n",
    "            s.append(1-i[x]-r[x])\n",
    "    return s"
   ]
  },
  {
   "cell_type": "markdown",
   "metadata": {},
   "source": [
    "This is our time discretization (about 3 months of data by day data):"
   ]
  },
  {
   "cell_type": "code",
   "execution_count": 25,
   "metadata": {},
   "outputs": [],
   "source": [
    "times = np.arange(0, 5, 0.25)"
   ]
  },
  {
   "cell_type": "markdown",
   "metadata": {},
   "source": [
    "Let's compute *exact* values for `y` (y\\[0\\] = I and y\\[1\\] = R). Let's assume that I(0) = 0.01 and R(0) = 0. In other words, we start with 1% infected individuals in the population, 0 recovered, and so 1 - 0.01 - 0 = 99% susceptible individuals.\n",
    "\n",
    "Let's pick some values for $\\beta$ and $\\gamma$ to begin with (we will model them based on China's data leter on), which guarantee an epidemic ($\\beta > \\gamma$):"
   ]
  },
  {
   "cell_type": "code",
   "execution_count": 26,
   "metadata": {},
   "outputs": [],
   "source": [
    "beta, gamma = 4.0, 1.0"
   ]
  },
  {
   "cell_type": "markdown",
   "metadata": {},
   "source": [
    "Realistically, an individual may be in infectious contact with more than 4 other individuals per day, and Covid19's infectivity is much bigger than 1 day!\n",
    "\n",
    "We use the library `odeint` from the package `scipy.integrate` to solve the ordinary differential equations for SIR:"
   ]
  },
  {
   "cell_type": "code",
   "execution_count": 27,
   "metadata": {},
   "outputs": [],
   "source": [
    "from scipy.integrate import odeint\n",
    "\n",
    "# Compute true curves\n",
    "y = odeint(SIR, t=times, y0=[0.01, 0.0], args=((beta, gamma),), rtol=1e-8)"
   ]
  },
  {
   "cell_type": "code",
   "execution_count": 28,
   "metadata": {},
   "outputs": [
    {
     "data": {
      "text/plain": [
       "[<matplotlib.lines.Line2D at 0x1c2441f5408>,\n",
       " <matplotlib.lines.Line2D at 0x1c2441fea08>]"
      ]
     },
     "execution_count": 28,
     "metadata": {},
     "output_type": "execute_result"
    },
    {
     "data": {
      "image/png": "[encoded data removed]",
      "text/plain": [
       "<Figure size 432x288 with 1 Axes>"
      ]
     },
     "metadata": {},
     "output_type": "display_data"
    }
   ],
   "source": [
    "plt.plot(y)"
   ]
  },
  {
   "cell_type": "markdown",
   "metadata": {},
   "source": [
    "The data has uncertainty (or ***noise***) because of our measurement tools ([aleatoric uncertainty](https://en.wikipedia.org/wiki/Uncertainty_quantification)), but also because the modeling equations are ot perfect ([epistemic uncertainity](https://en.wikipedia.org/wiki/Uncertainty_quantification)).\n",
    "\n",
    "We pick a [log-normal distribution](https://en.wikipedia.org/wiki/Log-normal_distribution), a continuous probability distribution whose logarithm is *normally distributed* (thus, if the random variable X is log-normally distributed, then Y = ln(X) has a normal distribution) as our observations pdf, with a mean equal to the log of `y`. \n",
    "\n",
    ">**NOTE**: Recall that taking the logarithm of a histogram of a dataset makes the histogram look much prettier (可爱极了), i.e. closer to a normal distribution, so that we can indeed model it as a normal distribution. So this is a very common operation amongst data scientists.\n",
    "\n",
    "So, these are our observations: Data from the true curves for I and R with errors 10% and 10% respectively"
   ]
  },
  {
   "cell_type": "code",
   "execution_count": 29,
   "metadata": {},
   "outputs": [],
   "source": [
    "yobs = np.random.lognormal(mean=np.log(y[1::]), sigma=[0.1, 0.1])"
   ]
  },
  {
   "cell_type": "markdown",
   "metadata": {},
   "source": [
    "Now plot our observations as datapoints on top of the exact values for S and I. R is not observed but estimated from the exact curves for S and I. Plot that, too."
   ]
  },
  {
   "cell_type": "code",
   "execution_count": 30,
   "metadata": {},
   "outputs": [],
   "source": [
    "i = [i[0] for i in yobs]\n",
    "r = [i[1] for i in yobs]"
   ]
  },
  {
   "cell_type": "code",
   "execution_count": 31,
   "metadata": {},
   "outputs": [
    {
     "data": {
      "text/plain": [
       "[<matplotlib.lines.Line2D at 0x1c24522f988>]"
      ]
     },
     "execution_count": 31,
     "metadata": {},
     "output_type": "execute_result"
    },
    {
     "data": {
      "image/png": "[encoded data removed]",
      "text/plain": [
       "<Figure size 432x288 with 1 Axes>"
      ]
     },
     "metadata": {},
     "output_type": "display_data"
    }
   ],
   "source": [
    "plt.plot(i)"
   ]
  },
  {
   "cell_type": "code",
   "execution_count": 32,
   "metadata": {},
   "outputs": [
    {
     "data": {
      "text/plain": [
       "[<matplotlib.lines.Line2D at 0x1c24529a048>]"
      ]
     },
     "execution_count": 32,
     "metadata": {},
     "output_type": "execute_result"
    },
    {
     "data": {
      "image/png": "[encoded data removed]",
      "text/plain": [
       "<Figure size 432x288 with 1 Axes>"
      ]
     },
     "metadata": {},
     "output_type": "display_data"
    }
   ],
   "source": [
    "plt.plot(r)"
   ]
  },
  {
   "cell_type": "code",
   "execution_count": 33,
   "metadata": {},
   "outputs": [],
   "source": [
    "s = susceptible(i,r)"
   ]
  },
  {
   "cell_type": "code",
   "execution_count": 34,
   "metadata": {},
   "outputs": [
    {
     "data": {
      "text/plain": [
       "[<matplotlib.lines.Line2D at 0x1c2452df488>,\n",
       " <matplotlib.lines.Line2D at 0x1c24531b348>]"
      ]
     },
     "execution_count": 34,
     "metadata": {},
     "output_type": "execute_result"
    },
    {
     "data": {
      "image/png": "[encoded data removed]",
      "text/plain": [
       "<Figure size 432x288 with 1 Axes>"
      ]
     },
     "metadata": {},
     "output_type": "display_data"
    }
   ],
   "source": [
    "plt.plot(s)\n",
    "plt.plot(yobs)"
   ]
  },
  {
   "cell_type": "code",
   "execution_count": 35,
   "metadata": {},
   "outputs": [
    {
     "data": {
      "text/plain": [
       "<matplotlib.legend.Legend at 0x1c245393f88>"
      ]
     },
     "execution_count": 35,
     "metadata": {},
     "output_type": "execute_result"
    },
    {
     "data": {
      "image/png": "[encoded data removed]",
      "text/plain": [
       "<Figure size 432x288 with 1 Axes>"
      ]
     },
     "metadata": {},
     "output_type": "display_data"
    }
   ],
   "source": [
    "plt.plot(times, y[:,0], color ='C0', label = 'I(t)')\n",
    "plt.plot(times, y[:,1], color ='C1', label = 'I(t)')\n",
    "plt.plot(times, susceptible(y[:,0], y[:,1]), color=\"C2\", label = 'S(t)')\n",
    "plt.legend()"
   ]
  },
  {
   "cell_type": "markdown",
   "metadata": {},
   "source": [
    "This data looks very close to our China data: Driven by rising infections, susceptible population diminishes due to acquired immunity, which controls the infection and brings it down to zero after it reaches a peak of 40% of the population, for the values of the parameters $\\beta$ and $\\gamma$ that we picked. Very sobering.\n",
    "\n",
    "Our China data though is only up to timepoint 2. We have *yet* to observe the infection to come down. All we observe in China is that *the number of new infections is coming down to almost zero*, which means we are approaching the peak of the Infected curve $I(t)$."
   ]
  },
  {
   "cell_type": "markdown",
   "metadata": {},
   "source": [
    "# Modeling with China's data\n",
    "\n",
    "Let's model China's infection data with Bayesian estimation in order to figure out the critical Chinese $\\beta$ and $\\gamma$ parameters. Based on social comparisons, we can estimate our own $\\beta$ parameter, so that will give us a disease $R_0$, which will tell us how *dangerous* Covid19 really is.\n",
    "\n",
    ">Flyers about how the flu kills more people than Covid19 abounded around campus, and are probably partly responsible for the complacent response to the epidemic in Western societies. Let's see how much *more dangerous* than the flu it really is.\n",
    "\n",
    "Let's plot Wuhan's infected and cured populations once again:"
   ]
  },
  {
   "cell_type": "code",
   "execution_count": 36,
   "metadata": {},
   "outputs": [
    {
     "name": "stderr",
     "output_type": "stream",
     "text": [
      "C:\\Users\\rachc\\Anaconda3\\lib\\site-packages\\ipykernel_launcher.py:2: SettingWithCopyWarning: \n",
      "A value is trying to be set on a copy of a slice from a DataFrame.\n",
      "Try using .loc[row_indexer,col_indexer] = value instead\n",
      "\n",
      "See the caveats in the documentation: http://pandas.pydata.org/pandas-docs/stable/user_guide/indexing.html#returning-a-view-versus-a-copy\n",
      "  \n"
     ]
    },
    {
     "data": {
      "text/html": [
       "<div>\n",
       "<style scoped>\n",
       "    .dataframe tbody tr th:only-of-type {\n",
       "        vertical-align: middle;\n",
       "    }\n",
       "\n",
       "    .dataframe tbody tr th {\n",
       "        vertical-align: top;\n",
       "    }\n",
       "\n",
       "    .dataframe thead th {\n",
       "        text-align: right;\n",
       "    }\n",
       "</style>\n",
       "<table border=\"1\" class=\"dataframe\">\n",
       "  <thead>\n",
       "    <tr style=\"text-align: right;\">\n",
       "      <th></th>\n",
       "      <th>city_confirmedCount</th>\n",
       "      <th>city_curedCount</th>\n",
       "      <th>city_deadCount</th>\n",
       "      <th>city_recoveredCount</th>\n",
       "    </tr>\n",
       "    <tr>\n",
       "      <th>updateTime</th>\n",
       "      <th></th>\n",
       "      <th></th>\n",
       "      <th></th>\n",
       "      <th></th>\n",
       "    </tr>\n",
       "  </thead>\n",
       "  <tbody>\n",
       "    <tr>\n",
       "      <td>2020-01-24 09:47:38</td>\n",
       "      <td>495.0</td>\n",
       "      <td>0.0</td>\n",
       "      <td>0.0</td>\n",
       "      <td>0.0</td>\n",
       "    </tr>\n",
       "    <tr>\n",
       "      <td>2020-01-24 09:48:39</td>\n",
       "      <td>495.0</td>\n",
       "      <td>0.0</td>\n",
       "      <td>0.0</td>\n",
       "      <td>0.0</td>\n",
       "    </tr>\n",
       "    <tr>\n",
       "      <td>2020-01-24 09:49:39</td>\n",
       "      <td>495.0</td>\n",
       "      <td>0.0</td>\n",
       "      <td>0.0</td>\n",
       "      <td>0.0</td>\n",
       "    </tr>\n",
       "    <tr>\n",
       "      <td>2020-01-24 09:50:40</td>\n",
       "      <td>495.0</td>\n",
       "      <td>0.0</td>\n",
       "      <td>0.0</td>\n",
       "      <td>0.0</td>\n",
       "    </tr>\n",
       "    <tr>\n",
       "      <td>2020-01-24 11:49:48</td>\n",
       "      <td>495.0</td>\n",
       "      <td>0.0</td>\n",
       "      <td>0.0</td>\n",
       "      <td>0.0</td>\n",
       "    </tr>\n",
       "    <tr>\n",
       "      <td>...</td>\n",
       "      <td>...</td>\n",
       "      <td>...</td>\n",
       "      <td>...</td>\n",
       "      <td>...</td>\n",
       "    </tr>\n",
       "    <tr>\n",
       "      <td>2020-03-17 19:47:01</td>\n",
       "      <td>50004.0</td>\n",
       "      <td>39220.0</td>\n",
       "      <td>2480.0</td>\n",
       "      <td>41700.0</td>\n",
       "    </tr>\n",
       "    <tr>\n",
       "      <td>2020-03-18 09:19:13</td>\n",
       "      <td>50004.0</td>\n",
       "      <td>39220.0</td>\n",
       "      <td>2480.0</td>\n",
       "      <td>41700.0</td>\n",
       "    </tr>\n",
       "    <tr>\n",
       "      <td>2020-03-18 12:11:15</td>\n",
       "      <td>50005.0</td>\n",
       "      <td>40032.0</td>\n",
       "      <td>2490.0</td>\n",
       "      <td>42522.0</td>\n",
       "    </tr>\n",
       "    <tr>\n",
       "      <td>2020-03-18 12:12:22</td>\n",
       "      <td>50005.0</td>\n",
       "      <td>40032.0</td>\n",
       "      <td>2490.0</td>\n",
       "      <td>42522.0</td>\n",
       "    </tr>\n",
       "    <tr>\n",
       "      <td>2020-03-18 22:16:04</td>\n",
       "      <td>50005.0</td>\n",
       "      <td>40073.0</td>\n",
       "      <td>2490.0</td>\n",
       "      <td>42563.0</td>\n",
       "    </tr>\n",
       "  </tbody>\n",
       "</table>\n",
       "<p>376 rows × 4 columns</p>\n",
       "</div>"
      ],
      "text/plain": [
       "                     city_confirmedCount  city_curedCount  city_deadCount  \\\n",
       "updateTime                                                                  \n",
       "2020-01-24 09:47:38                495.0              0.0             0.0   \n",
       "2020-01-24 09:48:39                495.0              0.0             0.0   \n",
       "2020-01-24 09:49:39                495.0              0.0             0.0   \n",
       "2020-01-24 09:50:40                495.0              0.0             0.0   \n",
       "2020-01-24 11:49:48                495.0              0.0             0.0   \n",
       "...                                  ...              ...             ...   \n",
       "2020-03-17 19:47:01              50004.0          39220.0          2480.0   \n",
       "2020-03-18 09:19:13              50004.0          39220.0          2480.0   \n",
       "2020-03-18 12:11:15              50005.0          40032.0          2490.0   \n",
       "2020-03-18 12:12:22              50005.0          40032.0          2490.0   \n",
       "2020-03-18 22:16:04              50005.0          40073.0          2490.0   \n",
       "\n",
       "                     city_recoveredCount  \n",
       "updateTime                                \n",
       "2020-01-24 09:47:38                  0.0  \n",
       "2020-01-24 09:48:39                  0.0  \n",
       "2020-01-24 09:49:39                  0.0  \n",
       "2020-01-24 09:50:40                  0.0  \n",
       "2020-01-24 11:49:48                  0.0  \n",
       "...                                  ...  \n",
       "2020-03-17 19:47:01              41700.0  \n",
       "2020-03-18 09:19:13              41700.0  \n",
       "2020-03-18 12:11:15              42522.0  \n",
       "2020-03-18 12:12:22              42522.0  \n",
       "2020-03-18 22:16:04              42563.0  \n",
       "\n",
       "[376 rows x 4 columns]"
      ]
     },
     "execution_count": 36,
     "metadata": {},
     "output_type": "execute_result"
    }
   ],
   "source": [
    "wuhan_plot=covid19_wuhan[['city_confirmedCount', 'city_curedCount', 'city_deadCount']]\n",
    "wuhan_plot['city_recoveredCount'] =covid19_wuhan.loc[:,['city_curedCount', 'city_deadCount']].sum(axis=1)\n",
    "wuhan_plot"
   ]
  },
  {
   "cell_type": "code",
   "execution_count": 37,
   "metadata": {},
   "outputs": [],
   "source": [
    "def Reverse(lst): \n",
    "    lst.reverse() \n",
    "    return lst "
   ]
  },
  {
   "cell_type": "code",
   "execution_count": 38,
   "metadata": {},
   "outputs": [
    {
     "data": {
      "text/plain": [
       "[50005.0,\n",
       " 50005.0,\n",
       " 50005.0,\n",
       " 50004.0,\n",
       " 50004.0,\n",
       " 50004.0,\n",
       " 50003.0,\n",
       " 50003.0,\n",
       " 50003.0,\n",
       " 50003.0,\n",
       " 49999.0,\n",
       " 49995.0,\n",
       " 49995.0,\n",
       " 49995.0,\n",
       " 49995.0,\n",
       " 49995.0,\n",
       " 49991.0,\n",
       " 49986.0,\n",
       " 49986.0,\n",
       " 49986.0,\n",
       " 49978.0,\n",
       " 49978.0,\n",
       " 49965.0,\n",
       " 49965.0,\n",
       " 49965.0,\n",
       " 49965.0,\n",
       " 49965.0,\n",
       " 49965.0,\n",
       " 49965.0,\n",
       " 49965.0,\n",
       " 49948.0,\n",
       " 49948.0,\n",
       " 49948.0,\n",
       " 49948.0,\n",
       " 49948.0,\n",
       " 49948.0,\n",
       " 49912.0,\n",
       " 49912.0,\n",
       " 49912.0,\n",
       " 49912.0,\n",
       " 49912.0,\n",
       " 49912.0,\n",
       " 49871.0,\n",
       " 49871.0,\n",
       " 49871.0,\n",
       " 49797.0,\n",
       " 49797.0,\n",
       " 49671.0,\n",
       " 49671.0,\n",
       " 49671.0,\n",
       " 49671.0,\n",
       " 49671.0,\n",
       " 49671.0,\n",
       " 49540.0,\n",
       " 49540.0,\n",
       " 49426.0,\n",
       " 49426.0,\n",
       " 49426.0,\n",
       " 49315.0,\n",
       " 49315.0,\n",
       " 49315.0,\n",
       " 49122.0,\n",
       " 49122.0,\n",
       " 49122.0,\n",
       " 49122.0,\n",
       " 49122.0,\n",
       " 49122.0,\n",
       " 48557.0,\n",
       " 48557.0,\n",
       " 48557.0,\n",
       " 48557.0,\n",
       " 48557.0,\n",
       " 48557.0,\n",
       " 48137.0,\n",
       " 47824.0,\n",
       " 47824.0,\n",
       " 47824.0,\n",
       " 47824.0,\n",
       " 47824.0,\n",
       " 47824.0,\n",
       " 47824.0,\n",
       " 47824.0,\n",
       " 47441.0,\n",
       " 47441.0,\n",
       " 47441.0,\n",
       " 47441.0,\n",
       " 47441.0,\n",
       " 47441.0,\n",
       " 47441.0,\n",
       " 47071.0,\n",
       " 47071.0,\n",
       " 47071.0,\n",
       " 47071.0,\n",
       " 47071.0,\n",
       " 47071.0,\n",
       " 47071.0,\n",
       " 47071.0,\n",
       " 47071.0,\n",
       " 46607.0,\n",
       " 46607.0,\n",
       " 46201.0,\n",
       " 46201.0,\n",
       " 46201.0,\n",
       " 46201.0,\n",
       " 46201.0,\n",
       " 46201.0,\n",
       " 46201.0,\n",
       " 45660.0,\n",
       " 45660.0,\n",
       " 45660.0,\n",
       " 45660.0,\n",
       " 45660.0,\n",
       " 45660.0,\n",
       " 45660.0,\n",
       " 45660.0,\n",
       " 45346.0,\n",
       " 45346.0,\n",
       " 45346.0,\n",
       " 45346.0,\n",
       " 45346.0,\n",
       " 45346.0,\n",
       " 45346.0,\n",
       " 45346.0,\n",
       " 45346.0,\n",
       " 45027.0,\n",
       " 45027.0,\n",
       " 45027.0,\n",
       " 45027.0,\n",
       " 45027.0,\n",
       " 45027.0,\n",
       " 44412.0,\n",
       " 44412.0,\n",
       " 44412.0,\n",
       " 44412.0,\n",
       " 44412.0,\n",
       " 44412.0,\n",
       " 44412.0,\n",
       " 44412.0,\n",
       " 44412.0,\n",
       " 44412.0,\n",
       " 44412.0,\n",
       " 44412.0,\n",
       " 42752.0,\n",
       " 42752.0,\n",
       " 42752.0,\n",
       " 42752.0,\n",
       " 42752.0,\n",
       " 42752.0,\n",
       " 42752.0,\n",
       " 42752.0,\n",
       " 42752.0,\n",
       " 41152.0,\n",
       " 41152.0,\n",
       " 41152.0,\n",
       " 41152.0,\n",
       " 39462.0,\n",
       " 39462.0,\n",
       " 39462.0,\n",
       " 39462.0,\n",
       " 39462.0,\n",
       " 37914.0,\n",
       " 37914.0,\n",
       " 37914.0,\n",
       " 37914.0,\n",
       " 37914.0,\n",
       " 37914.0,\n",
       " 35991.0,\n",
       " 35991.0,\n",
       " 35991.0,\n",
       " 35991.0,\n",
       " 35991.0,\n",
       " 35991.0,\n",
       " 35991.0,\n",
       " 32994.0,\n",
       " 32994.0,\n",
       " 32994.0,\n",
       " 32994.0,\n",
       " 32994.0,\n",
       " 32994.0,\n",
       " 19558.0,\n",
       " 19558.0,\n",
       " 19558.0,\n",
       " 19558.0,\n",
       " 19558.0,\n",
       " 19558.0,\n",
       " 19558.0,\n",
       " 18454.0,\n",
       " 18454.0,\n",
       " 18454.0,\n",
       " 18454.0,\n",
       " 18454.0,\n",
       " 16902.0,\n",
       " 16902.0,\n",
       " 16902.0,\n",
       " 16902.0,\n",
       " 16902.0,\n",
       " 16902.0,\n",
       " 14982.0,\n",
       " 14982.0,\n",
       " 14982.0,\n",
       " 14982.0,\n",
       " 14982.0,\n",
       " 14982.0,\n",
       " 14982.0,\n",
       " 14982.0,\n",
       " 14982.0,\n",
       " 14982.0,\n",
       " 14982.0,\n",
       " 14982.0,\n",
       " 14982.0,\n",
       " 14982.0,\n",
       " 13603.0,\n",
       " 13603.0,\n",
       " 13603.0,\n",
       " 13603.0,\n",
       " 13603.0,\n",
       " 13603.0,\n",
       " 13603.0,\n",
       " 13603.0,\n",
       " 13603.0,\n",
       " 13603.0,\n",
       " 13603.0,\n",
       " 13603.0,\n",
       " 13603.0,\n",
       " 13603.0,\n",
       " 13603.0,\n",
       " 13603.0,\n",
       " 13603.0,\n",
       " 11618.0,\n",
       " 11618.0,\n",
       " 11618.0,\n",
       " 11618.0,\n",
       " 11618.0,\n",
       " 11618.0,\n",
       " 11618.0,\n",
       " 11618.0,\n",
       " 11618.0,\n",
       " 11618.0,\n",
       " 11618.0,\n",
       " 11618.0,\n",
       " 11618.0,\n",
       " 11618.0,\n",
       " 11618.0,\n",
       " 11618.0,\n",
       " 11618.0,\n",
       " 11618.0,\n",
       " 11618.0,\n",
       " 11618.0,\n",
       " 11618.0,\n",
       " 11618.0,\n",
       " 10117.0,\n",
       " 10117.0,\n",
       " 10117.0,\n",
       " 10117.0,\n",
       " 10117.0,\n",
       " 10117.0,\n",
       " 10117.0,\n",
       " 10117.0,\n",
       " 10117.0,\n",
       " 10117.0,\n",
       " 10117.0,\n",
       " 8351.0,\n",
       " 8351.0,\n",
       " 8351.0,\n",
       " 8351.0,\n",
       " 8351.0,\n",
       " 8351.0,\n",
       " 8351.0,\n",
       " 8351.0,\n",
       " 8351.0,\n",
       " 8351.0,\n",
       " 8351.0,\n",
       " 6384.0,\n",
       " 6384.0,\n",
       " 6384.0,\n",
       " 6384.0,\n",
       " 6384.0,\n",
       " 6384.0,\n",
       " 6384.0,\n",
       " 6384.0,\n",
       " 6384.0,\n",
       " 6384.0,\n",
       " 6384.0,\n",
       " 6384.0,\n",
       " 6384.0,\n",
       " 5142.0,\n",
       " 5142.0,\n",
       " 5142.0,\n",
       " 5142.0,\n",
       " 5142.0,\n",
       " 5142.0,\n",
       " 4109.0,\n",
       " 4109.0,\n",
       " 4109.0,\n",
       " 4109.0,\n",
       " 4109.0,\n",
       " 4109.0,\n",
       " 4109.0,\n",
       " 4109.0,\n",
       " 4109.0,\n",
       " 3215.0,\n",
       " 3215.0,\n",
       " 3215.0,\n",
       " 3215.0,\n",
       " 3215.0,\n",
       " 3215.0,\n",
       " 3215.0,\n",
       " 3215.0,\n",
       " 3215.0,\n",
       " 3215.0,\n",
       " 3215.0,\n",
       " 3215.0,\n",
       " 3215.0,\n",
       " 2639.0,\n",
       " 2639.0,\n",
       " 2639.0,\n",
       " 2639.0,\n",
       " 2639.0,\n",
       " 2639.0,\n",
       " 2261.0,\n",
       " 2261.0,\n",
       " 2261.0,\n",
       " 2261.0,\n",
       " 1905.0,\n",
       " 1905.0,\n",
       " 1905.0,\n",
       " 1905.0,\n",
       " 1905.0,\n",
       " 1905.0,\n",
       " 1905.0,\n",
       " 1905.0,\n",
       " 1905.0,\n",
       " 1905.0,\n",
       " 1590.0,\n",
       " 1590.0,\n",
       " 1590.0,\n",
       " 698.0,\n",
       " 698.0,\n",
       " 698.0,\n",
       " 698.0,\n",
       " 698.0,\n",
       " 698.0,\n",
       " 698.0,\n",
       " 698.0,\n",
       " 698.0,\n",
       " 698.0,\n",
       " 618.0,\n",
       " 618.0,\n",
       " 618.0,\n",
       " 618.0,\n",
       " 618.0,\n",
       " 618.0,\n",
       " 572.0,\n",
       " 572.0,\n",
       " 572.0,\n",
       " 572.0,\n",
       " 572.0,\n",
       " 572.0,\n",
       " 572.0,\n",
       " 572.0,\n",
       " 572.0,\n",
       " 495.0,\n",
       " 495.0,\n",
       " 495.0,\n",
       " 495.0,\n",
       " 495.0,\n",
       " 495.0,\n",
       " 495.0,\n",
       " 495.0,\n",
       " 495.0,\n",
       " 495.0,\n",
       " 495.0,\n",
       " 495.0,\n",
       " 495.0,\n",
       " 495.0,\n",
       " 495.0]"
      ]
     },
     "execution_count": 38,
     "metadata": {},
     "output_type": "execute_result"
    }
   ],
   "source": [
    "wuhan_infected = wuhan_plot.city_confirmedCount.to_list()\n",
    "wuhan_infected_reverse = Reverse(wuhan_infected)\n",
    "wuhan_infected_reverse"
   ]
  },
  {
   "cell_type": "code",
   "execution_count": 39,
   "metadata": {},
   "outputs": [],
   "source": [
    "wuhan_infected = wuhan_plot.city_confirmedCount.values"
   ]
  },
  {
   "cell_type": "code",
   "execution_count": 41,
   "metadata": {},
   "outputs": [],
   "source": [
    "mirror = np.concatenate((wuhan_infected,wuhan_infected_reverse))"
   ]
  },
  {
   "cell_type": "code",
   "execution_count": 42,
   "metadata": {
    "scrolled": true
   },
   "outputs": [
    {
     "data": {
      "text/plain": [
       "[<matplotlib.lines.Line2D at 0x1c2453ff588>]"
      ]
     },
     "execution_count": 42,
     "metadata": {},
     "output_type": "execute_result"
    },
    {
     "data": {
      "image/png": "[encoded data removed]",
      "text/plain": [
       "<Figure size 432x288 with 1 Axes>"
      ]
     },
     "metadata": {},
     "output_type": "display_data"
    }
   ],
   "source": [
    "plt.plot(mirror)"
   ]
  },
  {
   "cell_type": "code",
   "execution_count": 43,
   "metadata": {},
   "outputs": [
    {
     "data": {
      "text/plain": [
       "0     2020-03-19 00:00:00\n",
       "1     2020-03-19 10:14:24\n",
       "2     2020-03-19 20:28:48\n",
       "3     2020-03-20 06:43:12\n",
       "4     2020-03-20 16:57:36\n",
       "              ...        \n",
       "371   2020-08-24 07:02:24\n",
       "372   2020-08-24 17:16:48\n",
       "373   2020-08-25 03:31:12\n",
       "374   2020-08-25 13:45:36\n",
       "375   2020-08-26 00:00:00\n",
       "Length: 376, dtype: datetime64[ns]"
      ]
     },
     "execution_count": 43,
     "metadata": {},
     "output_type": "execute_result"
    }
   ],
   "source": [
    "new_updateTime = pd.Series(pd.date_range(start='2020-03-19', end='2020-08-26', periods=376))\n",
    "new_updateTime"
   ]
  },
  {
   "cell_type": "code",
   "execution_count": 44,
   "metadata": {},
   "outputs": [],
   "source": [
    "v= wuhan_plot.city_recoveredCount\n",
    "v_list= v.to_numpy()"
   ]
  },
  {
   "cell_type": "code",
   "execution_count": 45,
   "metadata": {},
   "outputs": [],
   "source": [
    "import datetime\n",
    "def datetime_to_float(d):\n",
    "    epoch = datetime.datetime.utcfromtimestamp(0)\n",
    "    total_seconds =  (d - epoch).total_seconds()\n",
    "    return total_seconds"
   ]
  },
  {
   "cell_type": "code",
   "execution_count": 46,
   "metadata": {},
   "outputs": [],
   "source": [
    "i=0\n",
    "newupdateTime = []\n",
    "for d in new_updateTime:\n",
    "    dt = datetime_to_float(d)\n",
    "    i+=1\n",
    "    newupdateTime.append(dt)"
   ]
  },
  {
   "cell_type": "code",
   "execution_count": null,
   "metadata": {},
   "outputs": [],
   "source": []
  },
  {
   "cell_type": "code",
   "execution_count": 48,
   "metadata": {},
   "outputs": [],
   "source": [
    "old_updateTime = covid19_china[covid19_china[\"cityEnglishName\"] == \"Wuhan\"].updateTime.sort_values()"
   ]
  },
  {
   "cell_type": "code",
   "execution_count": 49,
   "metadata": {},
   "outputs": [],
   "source": [
    "import pandas as pd\n",
    "from datetime import datetime\n",
    "\n",
    "oldupdateTime = old_updateTime\n",
    "oldupdateTime = pd.DataFrame(oldupdateTime)\n",
    "\n",
    "#list conversion of updateTime\n",
    "oldupdateTime_list = oldupdateTime.updateTime.to_list()\n",
    "\n",
    "oldupdateTime_float = []\n",
    "\n",
    "for i in range(len(oldupdateTime_list)):\n",
    "    spaceSep = oldupdateTime_list[i].split(\" \")\n",
    "    colSep = spaceSep[1].split(\":\")\n",
    "    deshSep = spaceSep[0].split(\"-\")\n",
    "    intColSep = [int(col) for col in colSep]\n",
    "    intDeshSep = [int(desh) for desh in deshSep]\n",
    "    val = datetime(intDeshSep[0],intDeshSep[1],intDeshSep[2],intColSep[0],intColSep[1],intColSep[2]).timestamp()\n",
    "    oldupdateTime_float.append(val)"
   ]
  },
  {
   "cell_type": "code",
   "execution_count": 50,
   "metadata": {},
   "outputs": [],
   "source": [
    "import scipy as sp\n",
    "\n",
    "fvlinear = sp.interpolate.interp1d(oldupdateTime_float, v, kind = 'linear',fill_value = 'extrapolate')\n",
    "tnew = newupdateTime\n",
    "vlinear = fvlinear(tnew)"
   ]
  },
  {
   "cell_type": "code",
   "execution_count": 51,
   "metadata": {},
   "outputs": [
    {
     "data": {
      "text/plain": [
       "752"
      ]
     },
     "execution_count": 51,
     "metadata": {},
     "output_type": "execute_result"
    }
   ],
   "source": [
    "b =np.concatenate((v_list, vlinear))\n",
    "len(b)"
   ]
  },
  {
   "cell_type": "code",
   "execution_count": 187,
   "metadata": {},
   "outputs": [],
   "source": [
    "# total_confirmed = pd.concat((v,vlinear_Series))\n",
    "# total_confirmed"
   ]
  },
  {
   "cell_type": "code",
   "execution_count": 52,
   "metadata": {},
   "outputs": [
    {
     "data": {
      "text/plain": [
       "[<matplotlib.lines.Line2D at 0x1c245499908>]"
      ]
     },
     "execution_count": 52,
     "metadata": {},
     "output_type": "execute_result"
    },
    {
     "data": {
      "image/png": "[encoded data removed]",
      "text/plain": [
       "<Figure size 432x288 with 1 Axes>"
      ]
     },
     "metadata": {},
     "output_type": "display_data"
    }
   ],
   "source": [
    "plt.plot(vlinear)"
   ]
  },
  {
   "cell_type": "code",
   "execution_count": 53,
   "metadata": {},
   "outputs": [
    {
     "data": {
      "text/plain": [
       "376"
      ]
     },
     "execution_count": 53,
     "metadata": {},
     "output_type": "execute_result"
    }
   ],
   "source": [
    "len(vlinear)"
   ]
  },
  {
   "cell_type": "code",
   "execution_count": 54,
   "metadata": {},
   "outputs": [
    {
     "data": {
      "text/plain": [
       "pandas.core.series.Series"
      ]
     },
     "execution_count": 54,
     "metadata": {},
     "output_type": "execute_result"
    }
   ],
   "source": [
    "type(v)"
   ]
  },
  {
   "cell_type": "code",
   "execution_count": 55,
   "metadata": {},
   "outputs": [
    {
     "data": {
      "text/plain": [
       "list"
      ]
     },
     "execution_count": 55,
     "metadata": {},
     "output_type": "execute_result"
    }
   ],
   "source": [
    "type(newupdateTime)"
   ]
  },
  {
   "cell_type": "code",
   "execution_count": 56,
   "metadata": {},
   "outputs": [
    {
     "data": {
      "text/plain": [
       "list"
      ]
     },
     "execution_count": 56,
     "metadata": {},
     "output_type": "execute_result"
    }
   ],
   "source": [
    "a = oldupdateTime_float+newupdateTime\n",
    "type(a)"
   ]
  },
  {
   "cell_type": "code",
   "execution_count": 57,
   "metadata": {},
   "outputs": [
    {
     "data": {
      "text/plain": [
       "752"
      ]
     },
     "execution_count": 57,
     "metadata": {},
     "output_type": "execute_result"
    }
   ],
   "source": [
    "time = np.array(a)\n",
    "time\n",
    "len(time)"
   ]
  },
  {
   "cell_type": "code",
   "execution_count": 58,
   "metadata": {},
   "outputs": [
    {
     "data": {
      "text/plain": [
       "[<matplotlib.lines.Line2D at 0x1c245514608>]"
      ]
     },
     "execution_count": 58,
     "metadata": {},
     "output_type": "execute_result"
    },
    {
     "data": {
      "image/png": "[encoded data removed]",
      "text/plain": [
       "<Figure size 432x288 with 1 Axes>"
      ]
     },
     "metadata": {},
     "output_type": "display_data"
    }
   ],
   "source": [
    "plt.plot(time)"
   ]
  },
  {
   "cell_type": "code",
   "execution_count": 59,
   "metadata": {},
   "outputs": [
    {
     "data": {
      "text/plain": [
       "numpy.ndarray"
      ]
     },
     "execution_count": 59,
     "metadata": {},
     "output_type": "execute_result"
    }
   ],
   "source": [
    "type(mirror)"
   ]
  },
  {
   "cell_type": "code",
   "execution_count": 62,
   "metadata": {},
   "outputs": [],
   "source": [
    "temp = pd.DataFrame({ 'city_recoveredCount':  b,\n",
    "                  'city_confirmed': mirror ,\n",
    "                  'updateTime': a})"
   ]
  },
  {
   "cell_type": "code",
   "execution_count": 63,
   "metadata": {},
   "outputs": [
    {
     "data": {
      "text/html": [
       "<div>\n",
       "<style scoped>\n",
       "    .dataframe tbody tr th:only-of-type {\n",
       "        vertical-align: middle;\n",
       "    }\n",
       "\n",
       "    .dataframe tbody tr th {\n",
       "        vertical-align: top;\n",
       "    }\n",
       "\n",
       "    .dataframe thead th {\n",
       "        text-align: right;\n",
       "    }\n",
       "</style>\n",
       "<table border=\"1\" class=\"dataframe\">\n",
       "  <thead>\n",
       "    <tr style=\"text-align: right;\">\n",
       "      <th></th>\n",
       "      <th>city_recoveredCount</th>\n",
       "      <th>city_confirmed</th>\n",
       "    </tr>\n",
       "    <tr>\n",
       "      <th>updateTime</th>\n",
       "      <th></th>\n",
       "      <th></th>\n",
       "    </tr>\n",
       "  </thead>\n",
       "  <tbody>\n",
       "    <tr>\n",
       "      <td>1.579877e+09</td>\n",
       "      <td>0.000000</td>\n",
       "      <td>495.0</td>\n",
       "    </tr>\n",
       "    <tr>\n",
       "      <td>1.579877e+09</td>\n",
       "      <td>0.000000</td>\n",
       "      <td>495.0</td>\n",
       "    </tr>\n",
       "    <tr>\n",
       "      <td>1.579877e+09</td>\n",
       "      <td>0.000000</td>\n",
       "      <td>495.0</td>\n",
       "    </tr>\n",
       "    <tr>\n",
       "      <td>1.579877e+09</td>\n",
       "      <td>0.000000</td>\n",
       "      <td>495.0</td>\n",
       "    </tr>\n",
       "    <tr>\n",
       "      <td>1.579885e+09</td>\n",
       "      <td>0.000000</td>\n",
       "      <td>495.0</td>\n",
       "    </tr>\n",
       "    <tr>\n",
       "      <td>...</td>\n",
       "      <td>...</td>\n",
       "      <td>...</td>\n",
       "    </tr>\n",
       "    <tr>\n",
       "      <td>1.598253e+09</td>\n",
       "      <td>58034.359395</td>\n",
       "      <td>495.0</td>\n",
       "    </tr>\n",
       "    <tr>\n",
       "      <td>1.598289e+09</td>\n",
       "      <td>58076.086080</td>\n",
       "      <td>495.0</td>\n",
       "    </tr>\n",
       "    <tr>\n",
       "      <td>1.598326e+09</td>\n",
       "      <td>58117.812766</td>\n",
       "      <td>495.0</td>\n",
       "    </tr>\n",
       "    <tr>\n",
       "      <td>1.598363e+09</td>\n",
       "      <td>58159.539451</td>\n",
       "      <td>495.0</td>\n",
       "    </tr>\n",
       "    <tr>\n",
       "      <td>1.598400e+09</td>\n",
       "      <td>58201.266137</td>\n",
       "      <td>495.0</td>\n",
       "    </tr>\n",
       "  </tbody>\n",
       "</table>\n",
       "<p>752 rows × 2 columns</p>\n",
       "</div>"
      ],
      "text/plain": [
       "              city_recoveredCount  city_confirmed\n",
       "updateTime                                       \n",
       "1.579877e+09             0.000000           495.0\n",
       "1.579877e+09             0.000000           495.0\n",
       "1.579877e+09             0.000000           495.0\n",
       "1.579877e+09             0.000000           495.0\n",
       "1.579885e+09             0.000000           495.0\n",
       "...                           ...             ...\n",
       "1.598253e+09         58034.359395           495.0\n",
       "1.598289e+09         58076.086080           495.0\n",
       "1.598326e+09         58117.812766           495.0\n",
       "1.598363e+09         58159.539451           495.0\n",
       "1.598400e+09         58201.266137           495.0\n",
       "\n",
       "[752 rows x 2 columns]"
      ]
     },
     "execution_count": 63,
     "metadata": {},
     "output_type": "execute_result"
    }
   ],
   "source": [
    "temp.set_index('updateTime')"
   ]
  },
  {
   "cell_type": "code",
   "execution_count": 64,
   "metadata": {},
   "outputs": [
    {
     "data": {
      "image/png": "[encoded data removed]",
      "text/plain": [
       "<Figure size 432x288 with 1 Axes>"
      ]
     },
     "metadata": {},
     "output_type": "display_data"
    }
   ],
   "source": [
    "plt.plot(temp.city_confirmed)\n",
    "plt.plot(temp.city_recoveredCount)\n",
    "\n",
    "plt.title('Covid19 in Wuhan, diagnosed/recovered extrapolated')\n",
    "plt.ylabel('diagnosed/recovered')\n",
    "plt.xlabel('Date')\n",
    "plt.grid(True)"
   ]
  },
  {
   "cell_type": "code",
   "execution_count": 65,
   "metadata": {},
   "outputs": [],
   "source": [
    "temp_slice = temp[::30]"
   ]
  },
  {
   "cell_type": "code",
   "execution_count": 67,
   "metadata": {},
   "outputs": [
    {
     "data": {
      "image/png": "[encoded data removed]",
      "text/plain": [
       "<Figure size 432x288 with 1 Axes>"
      ]
     },
     "metadata": {},
     "output_type": "display_data"
    }
   ],
   "source": [
    "plt.plot(temp_slice.city_confirmed)\n",
    "plt.plot(temp_slice.city_recoveredCount)\n",
    "\n",
    "plt.title('Covid19 in Wuhan, diagnosed/recovered extrapolated, thinned out')\n",
    "plt.ylabel('diagnosed/recovered')\n",
    "plt.xlabel('Date')\n",
    "plt.grid(True)"
   ]
  },
  {
   "cell_type": "code",
   "execution_count": 68,
   "metadata": {},
   "outputs": [],
   "source": [
    "normalized_temp_slice=(temp_slice-temp_slice.min())/(temp_slice.max()-temp_slice.min())"
   ]
  },
  {
   "cell_type": "code",
   "execution_count": 69,
   "metadata": {},
   "outputs": [
    {
     "data": {
      "image/png": "[encoded data removed]",
      "text/plain": [
       "<Figure size 432x288 with 1 Axes>"
      ]
     },
     "metadata": {},
     "output_type": "display_data"
    }
   ],
   "source": [
    "plt.plot(normalized_temp_slice.city_confirmed)\n",
    "plt.plot(normalized_temp_slice.city_recoveredCount)\n",
    "\n",
    "plt.title('Covid19 in Wuhan, diagnosed/recovered extrapolated, thinned out, renormalized')\n",
    "plt.ylabel('diagnosed/recovered')\n",
    "plt.xlabel('Date')\n",
    "plt.grid(True)"
   ]
  },
  {
   "cell_type": "code",
   "execution_count": 71,
   "metadata": {},
   "outputs": [],
   "source": [
    "norm_wuhan = normalized_temp_slice.city_recoveredCount "
   ]
  },
  {
   "cell_type": "markdown",
   "metadata": {},
   "source": [
    "### Extrapolating Chinese data to the fizzling out of the pandemic\n",
    "\n",
    "We have to complete the Chinese data since it only goes up to the peak. We will assume that what we hear from China is correct: The epidemic has peaked and is petering out, thanks to the draconian quarantine measures undertaken. So let's just mirror out the infected data so that it decreases at the same rate, and let's just continue the progression of the cured curve.\n",
    "\n",
    "In other words, you are going to extend `DXYArea.csv` so that it looks like the modelled profiles above. You are going to assume that the epidemic is being contained and that the number of infected people will go down to zero like the model above. So you are going to have to essentially *mirror* the **infected** population profile, and *extrapolate* the **recovered** population profile.\n",
    "\n",
    "You will add dead people to the **recovered** people curve, so that our empirical data will match our model data.\n",
    "\n",
    "Wuhan was the hardest hit city, so you will do this just for Wuhan data.\n",
    "\n",
    "Probably the hardest part will be extending the index, so that you go an extra couple of months from the last data in the empirical data, that is where the number of infected people goes down to zero, and the number of recovered people keeps increasing (just do a simple linear interpolation for the recovered people).\n",
    "\n",
    "Your dataframe should look something like this:"
   ]
  },
  {
   "cell_type": "code",
   "execution_count": 130,
   "metadata": {
    "scrolled": true
   },
   "outputs": [
    {
     "data": {
      "text/html": [
       "<div>\n",
       "<style scoped>\n",
       "    .dataframe tbody tr th:only-of-type {\n",
       "        vertical-align: middle;\n",
       "    }\n",
       "\n",
       "    .dataframe tbody tr th {\n",
       "        vertical-align: top;\n",
       "    }\n",
       "\n",
       "    .dataframe thead th {\n",
       "        text-align: right;\n",
       "    }\n",
       "</style>\n",
       "<table border=\"1\" class=\"dataframe\">\n",
       "  <thead>\n",
       "    <tr style=\"text-align: right;\">\n",
       "      <th></th>\n",
       "      <th>city_confirmedCount</th>\n",
       "      <th>city_recoveredCount</th>\n",
       "    </tr>\n",
       "  </thead>\n",
       "  <tbody>\n",
       "    <tr>\n",
       "      <th>2020-01-24 09:47:00</th>\n",
       "      <td>495</td>\n",
       "      <td>0</td>\n",
       "    </tr>\n",
       "    <tr>\n",
       "      <th>2020-01-24 09:48:00</th>\n",
       "      <td>495</td>\n",
       "      <td>0</td>\n",
       "    </tr>\n",
       "    <tr>\n",
       "      <th>2020-01-24 09:49:00</th>\n",
       "      <td>495</td>\n",
       "      <td>0</td>\n",
       "    </tr>\n",
       "    <tr>\n",
       "      <th>2020-01-24 09:50:00</th>\n",
       "      <td>495</td>\n",
       "      <td>0</td>\n",
       "    </tr>\n",
       "    <tr>\n",
       "      <th>2020-01-24 11:49:00</th>\n",
       "      <td>495</td>\n",
       "      <td>0</td>\n",
       "    </tr>\n",
       "    <tr>\n",
       "      <th>...</th>\n",
       "      <td>...</td>\n",
       "      <td>...</td>\n",
       "    </tr>\n",
       "    <tr>\n",
       "      <th>2020-04-30 18:49:00</th>\n",
       "      <td>495</td>\n",
       "      <td>144133</td>\n",
       "    </tr>\n",
       "    <tr>\n",
       "      <th>2020-05-01 09:21:00</th>\n",
       "      <td>495</td>\n",
       "      <td>144433</td>\n",
       "    </tr>\n",
       "    <tr>\n",
       "      <th>2020-05-01 14:27:00</th>\n",
       "      <td>495</td>\n",
       "      <td>144733</td>\n",
       "    </tr>\n",
       "    <tr>\n",
       "      <th>2020-05-01 17:33:00</th>\n",
       "      <td>495</td>\n",
       "      <td>145033</td>\n",
       "    </tr>\n",
       "    <tr>\n",
       "      <th>2020-05-02 11:08:00</th>\n",
       "      <td>495</td>\n",
       "      <td>145333</td>\n",
       "    </tr>\n",
       "  </tbody>\n",
       "</table>\n",
       "<p>718 rows × 2 columns</p>\n",
       "</div>"
      ],
      "text/plain": [
       "                     city_confirmedCount  city_recoveredCount\n",
       "2020-01-24 09:47:00                  495                    0\n",
       "2020-01-24 09:48:00                  495                    0\n",
       "2020-01-24 09:49:00                  495                    0\n",
       "2020-01-24 09:50:00                  495                    0\n",
       "2020-01-24 11:49:00                  495                    0\n",
       "...                                  ...                  ...\n",
       "2020-04-30 18:49:00                  495               144133\n",
       "2020-05-01 09:21:00                  495               144433\n",
       "2020-05-01 14:27:00                  495               144733\n",
       "2020-05-01 17:33:00                  495               145033\n",
       "2020-05-02 11:08:00                  495               145333\n",
       "\n",
       "[718 rows x 2 columns]"
      ]
     },
     "execution_count": 130,
     "metadata": {},
     "output_type": "execute_result"
    }
   ],
   "source": [
    "covid19_wuhan_extension = pd.concat([covid19_wuhan6, covid19_wuhan_extension])\n",
    "covid19_wuhan_extension"
   ]
  },
  {
   "cell_type": "markdown",
   "metadata": {},
   "source": [
    "And the plot something like this:"
   ]
  },
  {
   "cell_type": "code",
   "execution_count": 131,
   "metadata": {},
   "outputs": [
    {
     "data": {
      "image/png": "[encoded data removed]",
      "text/plain": [
       "<Figure size 432x288 with 1 Axes>"
      ]
     },
     "metadata": {},
     "output_type": "display_data"
    }
   ],
   "source": [
    "plt.plot(covid19_wuhan_extension.city_confirmedCount)\n",
    "plt.plot(covid19_wuhan_extension.city_recoveredCount)\n",
    "\n",
    "plt.title('Covid19 in Wuhan, diagnosed/recovered extrapolated')\n",
    "plt.ylabel('diagnosed/recovered')\n",
    "plt.xlabel('Date')\n",
    "plt.grid(True)"
   ]
  },
  {
   "cell_type": "markdown",
   "metadata": {},
   "source": [
    "You can then reduce the size of our data by an order of magnitude:"
   ]
  },
  {
   "cell_type": "code",
   "execution_count": 167,
   "metadata": {},
   "outputs": [],
   "source": [
    "covid19_wuhan_extension3 = covid19_wuhan_extension[::30]  # Selects every 30th raw starting from 0"
   ]
  },
  {
   "cell_type": "code",
   "execution_count": 191,
   "metadata": {},
   "outputs": [
    {
     "data": {
      "image/png": "[encoded data removed]",
      "text/plain": [
       "<Figure size 432x288 with 1 Axes>"
      ]
     },
     "metadata": {},
     "output_type": "display_data"
    }
   ],
   "source": [
    "plt.plot(covid19_wuhan_extension3.city_confirmedCount)\n",
    "plt.plot(covid19_wuhan_extension3.city_recoveredCount)\n",
    "\n",
    "plt.title('Covid19 in Wuhan, diagnosed/recovered extrapolated, thinned out')\n",
    "plt.ylabel('diagnosed/recovered')\n",
    "plt.xlabel('Date')\n",
    "plt.grid(True)"
   ]
  },
  {
   "cell_type": "markdown",
   "metadata": {},
   "source": [
    "and renormalize so that all values are less than 1, with the number of recovered people slowly reaching 100%."
   ]
  },
  {
   "cell_type": "code",
   "execution_count": 193,
   "metadata": {},
   "outputs": [
    {
     "data": {
      "image/png": "[encoded data removed]",
      "text/plain": [
       "<Figure size 432x288 with 1 Axes>"
      ]
     },
     "metadata": {},
     "output_type": "display_data"
    }
   ],
   "source": [
    "plt.plot(covid19_wuhan_extension4.city_confirmedCount)\n",
    "plt.plot(covid19_wuhan_extension4.city_recoveredCount)\n",
    "\n",
    "plt.title('Covid19 in Wuhan, diagnosed/recovered extrapolated, thinned out, renormalized')\n",
    "plt.ylabel('diagnosed/recovered')\n",
    "plt.xlabel('Date')\n",
    "plt.grid(True)"
   ]
  },
  {
   "cell_type": "markdown",
   "metadata": {},
   "source": [
    "Now we have our data, we are ready for our Bayesian modeling!"
   ]
  },
  {
   "cell_type": "markdown",
   "metadata": {},
   "source": [
    "### Bayesian modeling Chinese stats"
   ]
  },
  {
   "cell_type": "markdown",
   "metadata": {},
   "source": [
    "We import `DifferentialEquation` from `PyMC3`:"
   ]
  },
  {
   "cell_type": "code",
   "execution_count": 72,
   "metadata": {},
   "outputs": [],
   "source": [
    "import numpy as np\n",
    "import pymc3 as pm\n",
    "from pymc3.ode import DifferentialEquation\n",
    "import theano"
   ]
  },
  {
   "cell_type": "markdown",
   "metadata": {},
   "source": [
    "Matching shapes for X and Y:"
   ]
  },
  {
   "cell_type": "code",
   "execution_count": 73,
   "metadata": {},
   "outputs": [
    {
     "data": {
      "text/plain": [
       "(718,)"
      ]
     },
     "execution_count": 73,
     "metadata": {},
     "output_type": "execute_result"
    }
   ],
   "source": [
    "np.arange(0.25, 5, 0.00662).shape"
   ]
  },
  {
   "cell_type": "markdown",
   "metadata": {},
   "source": [
    "Our epidemic model dynamics are captured thusly:"
   ]
  },
  {
   "cell_type": "code",
   "execution_count": 74,
   "metadata": {},
   "outputs": [
    {
     "name": "stderr",
     "output_type": "stream",
     "text": [
      "C:\\Users\\rachc\\Anaconda3\\lib\\site-packages\\theano\\scan_module\\scan_perform_ext.py:76: UserWarning: The file scan_perform.c is not available. This donot happen normally. You are probably in a strangesetup. This mean Theano can not use the cython code for scan. If youwant to remove this warning, use the Theano flag'cxx=' (set to an empty string) to disable all ccode generation.\n",
      "  \"The file scan_perform.c is not available. This do\"\n"
     ]
    }
   ],
   "source": [
    "sir_model = DifferentialEquation(\n",
    "    func = SIR,\n",
    "    times = np.arange(0.25, 5, 0.2),\n",
    "    n_states = 2,\n",
    "    n_theta = 2,\n",
    "    t0 = 0,\n",
    ")"
   ]
  },
  {
   "cell_type": "markdown",
   "metadata": {},
   "source": [
    "We will model observations with a [log-normal distribution](https://en.wikipedia.org/wiki/Log-normal_distribution), a continuous probability density function (pdf) whose logarithm is normally distributed. Thus, if the random variable X is log-normally distributed, then Y = ln(X) has a normal distribution. \n",
    "\n",
    "Taking the logarithm of a dataset is a big-time prettyfier of data and is often a first target model. So we will assume that our Chinese I (infected) and R (recovered) data are log-normally distributed. We will add dead people to the recovered population since that is how we built our infectious model above.\n",
    "\n",
    "We will assume that there is noise/error in the Chinese data, so we will tack on a standard deviation. Since that quantity is never negative, it is often modelled as a Half [Cauchy](https://en.wikipedia.org/wiki/Cauchy_distribution) distribution. It has an interesting history.\n",
    "\n",
    ">**NOTE**: The half-Cauchy is heavy tailed and is regarded as fairly weakly informative. Gelman advocates for half-t priors (including the half-Cauchy) because they have better behavior for small parameter values but only regards it as weakly informative when a large scale parameter is used. See [A. Gelman (2006),\n",
    "\"Prior distributions for variance parameters in hierarchical models\"\n",
    "Bayesian Analysis, Vol. 1, N. 3, pp. 515–533](http://www.stat.columbia.edu/~gelman/research/published/taumain.pdf). \n",
    "\n",
    "<br />\n",
    "<center>\n",
    "<img src=\"ipynb.images/half-cauchy.png\" width=600 />\n",
    "</center>\n",
    "\n",
    "To model the parameters themselves, we will assume a very uninformative $R_0$ that is just $> 1$ so that we have an epidemic, a $\\gamma$ that also follows a log-normal distribution (so we only use one pdf type for our model, but hey, *you're free to try another one*!), and a $\\beta$ that is deterministically given by $\\gamma * R_0$.\n",
    "\n",
    "The data whose likelihood we're trying to model is given by the `sir_model` above: our function `SIR` given even further above, a time discretization from 0.25 to 5, starting from time 0, with 2D data (I, R) for Wuhan, Hubei, and 2D parameters (`R0` and `gama`). We pick Wuhan because it gives us the worst possible case since it's the epicenter of the disease.\n",
    "\n",
    "So, sigma (`sig`) is a half-Cuachy:\n",
    "```(python)\n",
    "sig = pm.HalfCauchy('sig', 1, shape=2)s\n",
    "```\n",
    "\n",
    "$R_0$ is another model parameter, which we bound below by 1 (>1) because an epidemic has occured!\n",
    "```(python)\n",
    "R0 = pm.Bound(pm.Normal, lower=1)('R0', 2, 3)\n",
    "```\n",
    "\n",
    "We model $\\gamma$ with the same pdf as the data likelihood:\n",
    "```(python)\n",
    "gama = pm.Lognormal('gama', pm.math.log(2), 2)\n",
    "```\n",
    "\n",
    "And so 4\\beta$ is given deterministically by:\n",
    "```(python)\n",
    "beta = pm.Deterministic('beta', gama*R0)\n",
    "```\n",
    "\n",
    "Then we model the data likelihood thusly:\n",
    "```(python)\n",
    "sir_curves = sir_model(y0=[0.01, 0.0], theta=[beta, gama])\n",
    "Y = pm.Lognormal('Y', mu=pm.math.log(sir_curves), sd=sig, observed=y_wuhan4)\n",
    "```\n",
    "\n",
    "Try setting the prior to this:\n",
    "```(python)\n",
    "prior = pm.sample_prior_predictive()\n",
    "```\n",
    "\n",
    "And finally run your NUTS sim (you may want to start with a Metropolis sim):\n",
    "```(python)\n",
    "trace = pm.sample(2000, tune=1000, target_accept=0.9, cores=1)\n",
    "```"
   ]
  },
  {
   "cell_type": "code",
   "execution_count": 75,
   "metadata": {},
   "outputs": [],
   "source": [
    "import pymc3 as pm\n",
    "import theano.tensor as T\n",
    "with pm.Model() as sir_model:\n",
    "    sig = pm.HalfCauchy('sig', 1, shape=2)\n",
    "    R0 = pm.Bound(pm.Normal, lower=1)('R0', 2, 3)\n",
    "    gama = pm.Lognormal('gama', pm.math.log(2), 2)\n",
    "    step = pm.NUTS()\n",
    "    beta = pm.Deterministic('beta', gama*R0)\n",
    "#     sir_curves = sir_model(y0=[0.01, 0.0], theta=[beta, gama])\n",
    "#     Y = pm.Lognormal('Y', mu=pm.math.log(sir_curves), sd=sig, observed=y_wuhan4)\n"
   ]
  },
  {
   "cell_type": "code",
   "execution_count": 76,
   "metadata": {},
   "outputs": [
    {
     "name": "stderr",
     "output_type": "stream",
     "text": [
      "Auto-assigning NUTS sampler...\n",
      "Initializing NUTS using jitter+adapt_diag...\n",
      "Sequential sampling (2 chains in 1 job)\n",
      "NUTS: [gama, R0, sig]\n",
      "Sampling chain 0, 0 divergences: 100%|████████████████████████████████████████████| 3000/3000 [00:03<00:00, 876.24it/s]\n",
      "Sampling chain 1, 0 divergences: 100%|███████████████████████████████████████████| 3000/3000 [00:02<00:00, 1250.70it/s]\n"
     ]
    }
   ],
   "source": [
    "with sir_model:\n",
    "    trace = pm.sample(2000, tune=1000, target_accept=0.9, cores=1)[1000:]"
   ]
  },
  {
   "cell_type": "code",
   "execution_count": 77,
   "metadata": {},
   "outputs": [
    {
     "name": "stderr",
     "output_type": "stream",
     "text": [
      "C:\\Users\\rachc\\Anaconda3\\lib\\site-packages\\arviz\\plots\\backends\\matplotlib\\distplot.py:38: UserWarning: Argument backend_kwargs has not effect in matplotlib.plot_distSupplied value won't be used\n",
      "  \"Argument backend_kwargs has not effect in matplotlib.plot_dist\"\n",
      "C:\\Users\\rachc\\Anaconda3\\lib\\site-packages\\arviz\\plots\\backends\\matplotlib\\distplot.py:38: UserWarning: Argument backend_kwargs has not effect in matplotlib.plot_distSupplied value won't be used\n",
      "  \"Argument backend_kwargs has not effect in matplotlib.plot_dist\"\n",
      "C:\\Users\\rachc\\Anaconda3\\lib\\site-packages\\arviz\\plots\\backends\\matplotlib\\distplot.py:38: UserWarning: Argument backend_kwargs has not effect in matplotlib.plot_distSupplied value won't be used\n",
      "  \"Argument backend_kwargs has not effect in matplotlib.plot_dist\"\n",
      "C:\\Users\\rachc\\Anaconda3\\lib\\site-packages\\arviz\\plots\\backends\\matplotlib\\distplot.py:38: UserWarning: Argument backend_kwargs has not effect in matplotlib.plot_distSupplied value won't be used\n",
      "  \"Argument backend_kwargs has not effect in matplotlib.plot_dist\"\n",
      "C:\\Users\\rachc\\Anaconda3\\lib\\site-packages\\arviz\\plots\\backends\\matplotlib\\distplot.py:38: UserWarning: Argument backend_kwargs has not effect in matplotlib.plot_distSupplied value won't be used\n",
      "  \"Argument backend_kwargs has not effect in matplotlib.plot_dist\"\n",
      "C:\\Users\\rachc\\Anaconda3\\lib\\site-packages\\arviz\\plots\\backends\\matplotlib\\distplot.py:38: UserWarning: Argument backend_kwargs has not effect in matplotlib.plot_distSupplied value won't be used\n",
      "  \"Argument backend_kwargs has not effect in matplotlib.plot_dist\"\n",
      "C:\\Users\\rachc\\Anaconda3\\lib\\site-packages\\arviz\\plots\\backends\\matplotlib\\distplot.py:38: UserWarning: Argument backend_kwargs has not effect in matplotlib.plot_distSupplied value won't be used\n",
      "  \"Argument backend_kwargs has not effect in matplotlib.plot_dist\"\n",
      "C:\\Users\\rachc\\Anaconda3\\lib\\site-packages\\arviz\\plots\\backends\\matplotlib\\distplot.py:38: UserWarning: Argument backend_kwargs has not effect in matplotlib.plot_distSupplied value won't be used\n",
      "  \"Argument backend_kwargs has not effect in matplotlib.plot_dist\"\n"
     ]
    },
    {
     "data": {
      "text/plain": [
       "array([[<matplotlib.axes._subplots.AxesSubplot object at 0x000001C2486CB688>,\n",
       "        <matplotlib.axes._subplots.AxesSubplot object at 0x000001C24555C288>],\n",
       "       [<matplotlib.axes._subplots.AxesSubplot object at 0x000001C245FBEAC8>,\n",
       "        <matplotlib.axes._subplots.AxesSubplot object at 0x000001C246A33488>],\n",
       "       [<matplotlib.axes._subplots.AxesSubplot object at 0x000001C246978348>,\n",
       "        <matplotlib.axes._subplots.AxesSubplot object at 0x000001C2469BCE08>]],\n",
       "      dtype=object)"
      ]
     },
     "execution_count": 77,
     "metadata": {},
     "output_type": "execute_result"
    },
    {
     "data": {
      "image/png": "[encoded data removed]",
      "text/plain": [
       "<Figure size 864x432 with 6 Axes>"
      ]
     },
     "metadata": {},
     "output_type": "display_data"
    }
   ],
   "source": [
    "pm.traceplot(trace, var_names=['gama', 'R0', 'sig'])"
   ]
  },
  {
   "cell_type": "code",
   "execution_count": 79,
   "metadata": {},
   "outputs": [
    {
     "ename": "TypeError",
     "evalue": "'Model' object is not callable",
     "output_type": "error",
     "traceback": [
      "\u001b[1;31m---------------------------------------------------------------------------\u001b[0m",
      "\u001b[1;31mTypeError\u001b[0m                                 Traceback (most recent call last)",
      "\u001b[1;32m<ipython-input-79-09fbea468343>\u001b[0m in \u001b[0;36m<module>\u001b[1;34m\u001b[0m\n\u001b[1;32m----> 1\u001b[1;33m \u001b[0msir_curves\u001b[0m \u001b[1;33m=\u001b[0m \u001b[0msir_model\u001b[0m\u001b[1;33m(\u001b[0m\u001b[0my0\u001b[0m\u001b[1;33m=\u001b[0m\u001b[1;33m[\u001b[0m\u001b[1;36m0.01\u001b[0m\u001b[1;33m,\u001b[0m \u001b[1;36m0.0\u001b[0m\u001b[1;33m]\u001b[0m\u001b[1;33m,\u001b[0m \u001b[0mtheta\u001b[0m\u001b[1;33m=\u001b[0m\u001b[1;33m[\u001b[0m\u001b[0mbeta\u001b[0m\u001b[1;33m,\u001b[0m \u001b[0mgama\u001b[0m\u001b[1;33m]\u001b[0m\u001b[1;33m)\u001b[0m\u001b[1;33m\u001b[0m\u001b[1;33m\u001b[0m\u001b[0m\n\u001b[0m\u001b[0;32m      2\u001b[0m \u001b[1;31m#     Y = pm.Lognormal('Y', mu=pm.math.log(sir_curves), sd=sig, observed=y_wuhan4)\u001b[0m\u001b[1;33m\u001b[0m\u001b[1;33m\u001b[0m\u001b[1;33m\u001b[0m\u001b[0m\n",
      "\u001b[1;31mTypeError\u001b[0m: 'Model' object is not callable"
     ]
    }
   ],
   "source": [
    "sir_curves = sir_model(y0=[0.01, 0.0], theta=[beta, gama])\n",
    "#     Y = pm.Lognormal('Y', mu=pm.math.log(sir_curves), sd=sig, observed=y_wuhan4)"
   ]
  },
  {
   "cell_type": "code",
   "execution_count": 81,
   "metadata": {},
   "outputs": [
    {
     "ename": "NameError",
     "evalue": "name 'sir_curves' is not defined",
     "output_type": "error",
     "traceback": [
      "\u001b[1;31m---------------------------------------------------------------------------\u001b[0m",
      "\u001b[1;31mNameError\u001b[0m                                 Traceback (most recent call last)",
      "\u001b[1;32m<ipython-input-81-1ae74e053d3c>\u001b[0m in \u001b[0;36m<module>\u001b[1;34m\u001b[0m\n\u001b[1;32m----> 1\u001b[1;33m \u001b[0mY\u001b[0m \u001b[1;33m=\u001b[0m \u001b[0mpm\u001b[0m\u001b[1;33m.\u001b[0m\u001b[0mLognormal\u001b[0m\u001b[1;33m(\u001b[0m\u001b[1;34m'Y'\u001b[0m\u001b[1;33m,\u001b[0m \u001b[0mmu\u001b[0m\u001b[1;33m=\u001b[0m\u001b[0mpm\u001b[0m\u001b[1;33m.\u001b[0m\u001b[0mmath\u001b[0m\u001b[1;33m.\u001b[0m\u001b[0mlog\u001b[0m\u001b[1;33m(\u001b[0m\u001b[0msir_curves\u001b[0m\u001b[1;33m)\u001b[0m\u001b[1;33m,\u001b[0m \u001b[0msd\u001b[0m\u001b[1;33m=\u001b[0m\u001b[0msig\u001b[0m\u001b[1;33m,\u001b[0m \u001b[0mobserved\u001b[0m\u001b[1;33m=\u001b[0m\u001b[0my_wuhan4\u001b[0m\u001b[1;33m)\u001b[0m\u001b[1;33m\u001b[0m\u001b[1;33m\u001b[0m\u001b[0m\n\u001b[0m",
      "\u001b[1;31mNameError\u001b[0m: name 'sir_curves' is not defined"
     ]
    }
   ],
   "source": [
    "Y = pm.Lognormal('Y', mu=pm.math.log(sir_curves), sd=sig, observed=y_wuhan4)"
   ]
  },
  {
   "cell_type": "markdown",
   "metadata": {},
   "source": [
    "# Conclusion\n",
    "\n",
    "Estimate the value of $R_0$ for the Coronavirus.\n",
    "\n",
    "This is some real data science, not just an easy midterm. So try to do as much of the pandas preprocessing in class, and maybe try to finish the Bayesian modeling at home. Do as much as you can!\n",
    "\n",
    "Good luck, data scientist! You may save the world one day, with yor modeling and predictions. God knows how dearly we need modeling these days, with global warming and all kinds of possible disasters. \n",
    "\n",
    "Science would not be possible without brave souls, like Li Wenliang, for whom saving his patients was more important than political propaganda. May he be a model for all of us."
   ]
  },
  {
   "cell_type": "code",
   "execution_count": null,
   "metadata": {},
   "outputs": [],
   "source": []
  }
 ],
 "metadata": {
  "kernelspec": {
   "display_name": "Python 3",
   "language": "python",
   "name": "python3"
  },
  "language_info": {
   "codemirror_mode": {
    "name": "ipython",
    "version": 3
   },
   "file_extension": ".py",
   "mimetype": "text/x-python",
   "name": "python",
   "nbconvert_exporter": "python",
   "pygments_lexer": "ipython3",
   "version": "3.7.7"
  }
 },
 "nbformat": 4,
 "nbformat_minor": 4
}
